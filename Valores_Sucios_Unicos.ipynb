{
  "nbformat": 4,
  "nbformat_minor": 0,
  "metadata": {
    "colab": {
      "name": "Valores Sucios Unicos.ipynb",
      "provenance": [],
      "collapsed_sections": [],
      "authorship_tag": "ABX9TyOilehe5n0M67HWR6tLNNSl",
      "include_colab_link": true
    },
    "kernelspec": {
      "name": "python3",
      "display_name": "Python 3"
    },
    "language_info": {
      "name": "python"
    }
  },
  "cells": [
    {
      "cell_type": "markdown",
      "metadata": {
        "id": "view-in-github",
        "colab_type": "text"
      },
      "source": [
        "<a href=\"https://colab.research.google.com/github/Ignacio-Ibarra/Approximate-String-Matching/blob/main/Valores_Sucios_Unicos.ipynb\" target=\"_parent\"><img src=\"https://colab.research.google.com/assets/colab-badge.svg\" alt=\"Open In Colab\"/></a>"
      ]
    },
    {
      "cell_type": "markdown",
      "metadata": {
        "id": "XjiGPigmEH2O"
      },
      "source": [
        "### Valores Sucios Unicos"
      ]
    },
    {
      "cell_type": "markdown",
      "metadata": {
        "id": "nOOVUK3nEO5s"
      },
      "source": [
        "En esta etapa obtenemos los valores sucios únicos mediante  `pyspark` que tiene un mejor manejo de memoria que Pandas en contextos de gran cantidad de registros\n"
      ]
    },
    {
      "cell_type": "code",
      "metadata": {
        "colab": {
          "base_uri": "https://localhost:8080/"
        },
        "id": "0H6aj0lXXRwa",
        "outputId": "bf844f9e-f424-4834-d344-046f4039c758"
      },
      "source": [
        "#Spark \n",
        "!pip install pyspark\n",
        "!apt install openjdk-8-jdk-headless -qq\n",
        "os.environ[\"JAVA_HOME\"] = \"/usr/lib/jvm/java-8-openjdk-amd64\"\n",
        "from pyspark.sql import *\n",
        "from pyspark.sql.functions import *\n",
        "from pyspark import SparkContext\n",
        "from pyspark.sql import SQLContext\n",
        "  \n",
        "#Montando Drive en la Session de Google Colab\n",
        "from google.colab import drive \n",
        "drive.mount(\"/content/drive\")\n",
        " \n",
        "#Displaying options\n",
        "pd.set_option(\"max_colwidth\", 60)\n",
        " \n",
        "#RUTA DATASET \n",
        "FILE_PATH = \"/content/drive/MyDrive/base importadores/para igal.csv\""
      ],
      "execution_count": null,
      "outputs": [
        {
          "output_type": "stream",
          "text": [
            "Collecting sparse_dot_topn\n",
            "  Downloading https://files.pythonhosted.org/packages/97/3f/cfe9416e28252689e6864e9d9a4a25b61fce8ea1d503fb021bb151213940/sparse_dot_topn-0.3.1.tar.gz\n",
            "  Installing build dependencies ... \u001b[?25l\u001b[?25hdone\n",
            "  Getting requirements to build wheel ... \u001b[?25l\u001b[?25hdone\n",
            "  Installing backend dependencies ... \u001b[?25l\u001b[?25hdone\n",
            "    Preparing wheel metadata ... \u001b[?25l\u001b[?25hdone\n",
            "Requirement already satisfied: numpy>=1.16.6 in /usr/local/lib/python3.7/dist-packages (from sparse_dot_topn) (1.19.5)\n",
            "Requirement already satisfied: scipy>=1.2.3 in /usr/local/lib/python3.7/dist-packages (from sparse_dot_topn) (1.4.1)\n",
            "Requirement already satisfied: setuptools>=42 in /usr/local/lib/python3.7/dist-packages (from sparse_dot_topn) (57.0.0)\n",
            "Requirement already satisfied: cython>=0.29.15 in /usr/local/lib/python3.7/dist-packages (from sparse_dot_topn) (0.29.23)\n",
            "Building wheels for collected packages: sparse-dot-topn\n",
            "  Building wheel for sparse-dot-topn (PEP 517) ... \u001b[?25l\u001b[?25hdone\n",
            "  Created wheel for sparse-dot-topn: filename=sparse_dot_topn-0.3.1-cp37-cp37m-linux_x86_64.whl size=1576477 sha256=dbc1cf84d5e972c56f90301475f2e6fd4582362ae263a598e82618e6a988fece\n",
            "  Stored in directory: /root/.cache/pip/wheels/62/43/9b/73485cefb3a333e1ec4915cf4db18e964efb597288aa7a45b1\n",
            "Successfully built sparse-dot-topn\n",
            "Installing collected packages: sparse-dot-topn\n",
            "Successfully installed sparse-dot-topn-0.3.1\n",
            "Mounted at /content/drive\n"
          ],
          "name": "stdout"
        }
      ]
    },
    {
      "cell_type": "code",
      "metadata": {
        "id": "FSWP-8-zEfVX"
      },
      "source": [
        "# create the Spark Session\n",
        "spark = SparkSession.builder.getOrCreate()\n",
        " \n",
        "# create the Spark Context\n",
        "sc = spark.sparkContext"
      ],
      "execution_count": null,
      "outputs": []
    },
    {
      "cell_type": "code",
      "metadata": {
        "colab": {
          "base_uri": "https://localhost:8080/"
        },
        "id": "tlXERUrlaaag",
        "outputId": "316c8627-4325-440c-bd4f-3207804b15b2"
      },
      "source": [
        "impo_df = spark.read.csv(FILE_PATH,header=True)\n",
        "impo_df.sample(fraction = 1.74 * 10**-6,seed=3)"
      ],
      "execution_count": null,
      "outputs": [
        {
          "output_type": "execute_result",
          "data": {
            "text/plain": [
              "DataFrame[cuit_impor: string, prove_dest: string, sim_sptos: string, porg: string]"
            ]
          },
          "metadata": {
            "tags": []
          },
          "execution_count": 7
        }
      ]
    },
    {
      "cell_type": "code",
      "metadata": {
        "colab": {
          "base_uri": "https://localhost:8080/"
        },
        "id": "D3iX9uQOCglP",
        "outputId": "80aae050-b9bf-4f2d-d26a-c3c70686e7b0"
      },
      "source": [
        "impo_df.sample(fraction = 1.74 * 10**-6,seed=3).show()"
      ],
      "execution_count": null,
      "outputs": [
        {
          "output_type": "stream",
          "text": [
            "+-----------+--------------------+------------+----+\n",
            "| cuit_impor|          prove_dest|   sim_sptos|porg|\n",
            "+-----------+--------------------+------------+----+\n",
            "|30502034118|(21515/13030) SNA...|84254200110U| 310|\n",
            "|30503961268|I0013476536  IBM ...|84733039900K| 320|\n",
            "|30640079130|GLOBUS INDUSTRIES...|85412920000J| 218|\n",
            "|30655965005|CUMMINS INC / 25-...|90328981000J| 315|\n",
            "|33709483779|PT.ASIA DWIMITRA ...|64069020900K| 316|\n",
            "|30503720236|(773223) JOHN DEE...|82041200000V| 203|\n",
            "|30504744538|(213965) AUTOMOBI...|87082999990J| 412|\n",
            "|30546689979|BURCKHARDT COMPRE...|84149039000Q| 430|\n",
            "|30503610988|HALLIBURTON ENERG...|90318099990G| 426|\n",
            "|30503948164|ABB SPA - REF.485...|85362000900C| 417|\n",
            "|30516150641|(006693)HIZER FIN...|87012000290C| 203|\n",
            "|30681530327|(118045)CATERPILL...|39269090999A| 212|\n",
            "|30642172464|JINAN BODOR CNC M...|84561090000M| 310|\n",
            "|30663301744|(1040317) MOLY-CO...|73261100000J| 208|\n",
            "|30709453250|BLUE SKY TELECOMM...|90308990900Y| 310|\n",
            "|30592199544|*SCHNEIDER ELECTR...|85366990900E| 417|\n",
            "|30689902797|C.5292 ICOF106024...|73269090900X| 212|\n",
            "|30685140221|ADIDAS INTERNATIO...|61046300110M| 337|\n",
            "|30503720236|(076326)DEERE & C...|84831090000U| 212|\n",
            "|30504744538|(240433) AUTOMOBI...|73202010000K| 410|\n",
            "+-----------+--------------------+------------+----+\n",
            "only showing top 20 rows\n",
            "\n"
          ],
          "name": "stdout"
        }
      ]
    },
    {
      "cell_type": "code",
      "metadata": {
        "id": "dFH4gQ3tcIAf"
      },
      "source": [
        "sqlContext = SQLContext(sc)\n",
        "sqlContext.registerDataFrameAsTable(impo_df, \"impo_df\")"
      ],
      "execution_count": null,
      "outputs": []
    },
    {
      "cell_type": "code",
      "metadata": {
        "colab": {
          "base_uri": "https://localhost:8080/"
        },
        "id": "BUJX7rK_cnNA",
        "outputId": "fefe3315-1a8d-430d-d5a9-0bb36cd45813"
      },
      "source": [
        "#Chequeamos cuántos registros tenemos. \n",
        "sqlContext.sql(\"SELECT COUNT(*) from impo_df\").show()"
      ],
      "execution_count": null,
      "outputs": [
        {
          "output_type": "stream",
          "text": [
            "+--------+\n",
            "|count(1)|\n",
            "+--------+\n",
            "|11474580|\n",
            "+--------+\n",
            "\n"
          ],
          "name": "stdout"
        }
      ]
    },
    {
      "cell_type": "code",
      "metadata": {
        "colab": {
          "base_uri": "https://localhost:8080/"
        },
        "id": "UNV3RS5SeS-v",
        "outputId": "841c623f-084d-4ccf-f2d7-65ef47747a2f"
      },
      "source": [
        "#Contamos los valores únicos sucios\n",
        "print(impo_df.select('prove_dest').distinct().count())"
      ],
      "execution_count": null,
      "outputs": [
        {
          "output_type": "stream",
          "text": [
            "2312302\n"
          ],
          "name": "stdout"
        }
      ]
    },
    {
      "cell_type": "code",
      "metadata": {
        "id": "X68O__2xQ51j"
      },
      "source": [
        "impo_df_distinct = impo_df.select('prove_dest').distinct()"
      ],
      "execution_count": null,
      "outputs": []
    },
    {
      "cell_type": "code",
      "metadata": {
        "colab": {
          "base_uri": "https://localhost:8080/"
        },
        "id": "22s3Fwx5Vjou",
        "outputId": "ff9f27eb-ea6c-4a38-8a75-dbfe772fc4d0"
      },
      "source": [
        "impo_df_distinct.show()"
      ],
      "execution_count": null,
      "outputs": [
        {
          "output_type": "stream",
          "text": [
            "+--------------------+\n",
            "|          prove_dest|\n",
            "+--------------------+\n",
            "|S.L. IMPEX       ...|\n",
            "|STANDARD BUSINESS...|\n",
            "|SHANGHAI SHENHONG...|\n",
            "|GLOBE TURBOCHARGE...|\n",
            "|(12423) TAPETES S...|\n",
            "|MILESTONE C: 1549...|\n",
            "|SHIJIAZHUANG FUHU...|\n",
            "|(006103) KRONOTEX...|\n",
            "|SECUTOR CORPORATI...|\n",
            "|ANTAL S.R.L.     ...|\n",
            "|LAUNCH TECH CO.'L...|\n",
            "|NINGBO SHUNTIAN L...|\n",
            "|TYPICAL INTERNATI...|\n",
            "|MARUI LTD        ...|\n",
            "|(657918)HENAN GEN...|\n",
            "|HEBEI HANWU COTTO...|\n",
            "|(000439)CHONGQING...|\n",
            "|VILSON RAIMUNDO M...|\n",
            "|(658177)JIANGSU S...|\n",
            "|PT.WISNU KARYA PU...|\n",
            "+--------------------+\n",
            "only showing top 20 rows\n",
            "\n"
          ],
          "name": "stdout"
        }
      ]
    },
    {
      "cell_type": "code",
      "metadata": {
        "id": "OLFs2nqgbVTG"
      },
      "source": [
        "# ############################################\n",
        "# ## GUARDANDO UNICOS SUCIOS\n",
        "# ############################################\n",
        "\n",
        "# #Guardamos en Drive\n",
        "impo_df_distinct.write.csv('/content/drive/MyDrive/base importadores/outputs/unicos_sucios')"
      ],
      "execution_count": null,
      "outputs": []
    }
  ]
}