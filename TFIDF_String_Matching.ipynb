{
  "nbformat": 4,
  "nbformat_minor": 0,
  "metadata": {
    "colab": {
      "name": "TFIDF String Matching.ipynb",
      "provenance": [],
      "collapsed_sections": [],
      "authorship_tag": "ABX9TyOe9OuX2vrW5hYsDRmQkcqZ",
      "include_colab_link": true
    },
    "kernelspec": {
      "name": "python3",
      "display_name": "Python 3"
    },
    "language_info": {
      "name": "python"
    }
  },
  "cells": [
    {
      "cell_type": "markdown",
      "metadata": {
        "id": "view-in-github",
        "colab_type": "text"
      },
      "source": [
        "<a href=\"https://colab.research.google.com/github/Ignacio-Ibarra/Approximate-String-Matching/blob/main/TFIDF_String_Matching.ipynb\" target=\"_parent\"><img src=\"https://colab.research.google.com/assets/colab-badge.svg\" alt=\"Open In Colab\"/></a>"
      ]
    },
    {
      "cell_type": "code",
      "metadata": {
        "colab": {
          "base_uri": "https://localhost:8080/"
        },
        "id": "pM1LbFfH17rL",
        "outputId": "65844f6e-3297-4c8d-a867-06e300a16d0e"
      },
      "source": [
        "#Paquetes Básicos\n",
        "import pandas as pd\n",
        "import numpy as np\n",
        "import random\n",
        "import os\n",
        "import time\n",
        "import matplotlib.pyplot as plt\n",
        "from functools import reduce\n",
        " \n",
        "#NLP \n",
        "import nltk\n",
        "import re\n",
        "import string\n",
        "import unicodedata\n",
        "from sklearn.feature_extraction.text import TfidfVectorizer\n",
        "!pip install sparse_dot_topn\n",
        "from scipy.sparse import csr_matrix\n",
        "import sparse_dot_topn.sparse_dot_topn as ct\n",
        " \n",
        "#Montando Drive en la Session de Google Colab\n",
        "from google.colab import drive \n",
        "drive.mount(\"/content/drive\")\n",
        " \n",
        "#Displaying options\n",
        "pd.set_option(\"max_colwidth\", 60)\n",
        " \n",
        "#RUTA DATASET \n",
        "DIRTY_NAMES = '/content/drive/MyDrive/base importadores/outputs/sucios_a_first_cleaning/sucios_a_first_cleaning17_06_21.csv'"
      ],
      "execution_count": 90,
      "outputs": [
        {
          "output_type": "stream",
          "text": [
            "Requirement already satisfied: sparse_dot_topn in /usr/local/lib/python3.7/dist-packages (0.3.1)\n",
            "Requirement already satisfied: setuptools>=42 in /usr/local/lib/python3.7/dist-packages (from sparse_dot_topn) (57.0.0)\n",
            "Requirement already satisfied: scipy>=1.2.3 in /usr/local/lib/python3.7/dist-packages (from sparse_dot_topn) (1.4.1)\n",
            "Requirement already satisfied: cython>=0.29.15 in /usr/local/lib/python3.7/dist-packages (from sparse_dot_topn) (0.29.23)\n",
            "Requirement already satisfied: numpy>=1.16.6 in /usr/local/lib/python3.7/dist-packages (from sparse_dot_topn) (1.19.5)\n",
            "Drive already mounted at /content/drive; to attempt to forcibly remount, call drive.mount(\"/content/drive\", force_remount=True).\n"
          ],
          "name": "stdout"
        }
      ]
    },
    {
      "cell_type": "markdown",
      "metadata": {
        "id": "xQ6rUNyZ9Uc_"
      },
      "source": [
        "# TFIDF"
      ]
    },
    {
      "cell_type": "code",
      "metadata": {
        "id": "UX3ZX5k0JlOW"
      },
      "source": [
        "dirty_company_names = pd.read_csv(DIRTY_NAMES)\n",
        "dirty_company_names = dirty_company_names[dirty_company_names.first_cleaning!=\"Se borró nombre en limpieza\"].reset_index(drop=True)"
      ],
      "execution_count": 92,
      "outputs": []
    },
    {
      "cell_type": "code",
      "metadata": {
        "id": "vEDNPdBLhuwK"
      },
      "source": [
        "first_cleaning = dirty_company_names.first_cleaning.unique().tolist()"
      ],
      "execution_count": 93,
      "outputs": []
    },
    {
      "cell_type": "markdown",
      "metadata": {
        "id": "ktWD9R_pKq5V"
      },
      "source": [
        "## N-gramas y palabras comunes"
      ]
    },
    {
      "cell_type": "markdown",
      "metadata": {
        "id": "saZuAz9XPLOe"
      },
      "source": [
        "Vectorizo por n-gramas (n=3) y las palabras más comunes las vectorizo como palabras y no como N-gramas. "
      ]
    },
    {
      "cell_type": "code",
      "metadata": {
        "id": "0cEUSloIhbL4"
      },
      "source": [
        "from collections import Counter\n",
        "\n",
        "def get_corpus_splitted(serie): \n",
        "  text = \" \".join(serie)\n",
        "  return re.findall(r'\\b\\S+\\b', text)\n",
        "\n",
        "def wordcount_df_from_serie(serie): \n",
        "  counter = Counter()\n",
        "  text = get_corpus_splitted(serie)\n",
        "  for word in text:\n",
        "    counter[word] +=1\n",
        "  return pd.DataFrame(counter.items(), columns=['word', 'counts']).sort_values(by=\"counts\", ascending=False)"
      ],
      "execution_count": 98,
      "outputs": []
    },
    {
      "cell_type": "code",
      "metadata": {
        "id": "S8ARBKuehmvZ"
      },
      "source": [
        "word_count = wordcount_df_from_serie(first_cleaning)"
      ],
      "execution_count": 99,
      "outputs": []
    },
    {
      "cell_type": "code",
      "metadata": {
        "colab": {
          "base_uri": "https://localhost:8080/",
          "height": 205
        },
        "id": "K2p9JplFFX22",
        "outputId": "1a92b661-5bfe-4cc8-c3df-e2d08e6b886a"
      },
      "source": [
        "word_count.count"
      ],
      "execution_count": 155,
      "outputs": [
        {
          "output_type": "execute_result",
          "data": {
            "text/html": [
              "<div>\n",
              "<style scoped>\n",
              "    .dataframe tbody tr th:only-of-type {\n",
              "        vertical-align: middle;\n",
              "    }\n",
              "\n",
              "    .dataframe tbody tr th {\n",
              "        vertical-align: top;\n",
              "    }\n",
              "\n",
              "    .dataframe thead th {\n",
              "        text-align: right;\n",
              "    }\n",
              "</style>\n",
              "<table border=\"1\" class=\"dataframe\">\n",
              "  <thead>\n",
              "    <tr style=\"text-align: right;\">\n",
              "      <th></th>\n",
              "      <th>word</th>\n",
              "      <th>counts</th>\n",
              "    </tr>\n",
              "  </thead>\n",
              "  <tbody>\n",
              "    <tr>\n",
              "      <th>175666</th>\n",
              "      <td>GRAMKOW</td>\n",
              "      <td>1</td>\n",
              "    </tr>\n",
              "    <tr>\n",
              "      <th>175667</th>\n",
              "      <td>AKTIVE</td>\n",
              "      <td>1</td>\n",
              "    </tr>\n",
              "    <tr>\n",
              "      <th>175668</th>\n",
              "      <td>CANBORN</td>\n",
              "      <td>1</td>\n",
              "    </tr>\n",
              "    <tr>\n",
              "      <th>175669</th>\n",
              "      <td>KYUYUU</td>\n",
              "      <td>1</td>\n",
              "    </tr>\n",
              "    <tr>\n",
              "      <th>175670</th>\n",
              "      <td>RENOBAT</td>\n",
              "      <td>1</td>\n",
              "    </tr>\n",
              "  </tbody>\n",
              "</table>\n",
              "</div>"
            ],
            "text/plain": [
              "           word  counts\n",
              "175666  GRAMKOW       1\n",
              "175667   AKTIVE       1\n",
              "175668  CANBORN       1\n",
              "175669   KYUYUU       1\n",
              "175670  RENOBAT       1"
            ]
          },
          "metadata": {
            "tags": []
          },
          "execution_count": 155
        }
      ]
    },
    {
      "cell_type": "code",
      "metadata": {
        "colab": {
          "base_uri": "https://localhost:8080/",
          "height": 416
        },
        "id": "oiBAJuFrjW0s",
        "outputId": "722fc566-d119-4080-a241-44f8ad593ef5"
      },
      "source": [
        "import matplotlib.pyplot as plt\n",
        "\n",
        "plt.rcParams['figure.figsize'] = (10,6.7)\n",
        "fig, ax = plt.subplots()\n",
        "\n",
        "barplot = word_count\n",
        "\n",
        "words = barplot.word.to_numpy()\n",
        "x_pos = np.arange(len(words))\n",
        "counts = barplot.counts\n",
        "\n",
        "ax.plot(x_pos, counts)\n",
        "plt.yscale('linear')\n",
        "plt.xscale('log')\n",
        "# ax.set_xticks(x_pos)\n",
        "# ax.set_xticklabels(words, rotation=90)\n",
        "#ax.invert_xaxis()  # labels read top-to-bottom\n",
        "# ax.set_ylabel('Quantity')\n",
        "# ax.set_title('Most Common Words')\n",
        "\n",
        "plt.show()"
      ],
      "execution_count": 100,
      "outputs": [
        {
          "output_type": "display_data",
          "data": {
            "image/png": "[encoded data removed]",
            "text/plain": [
              "<Figure size 720x482.4 with 1 Axes>"
            ]
          },
          "metadata": {
            "tags": [],
            "needs_background": "light"
          }
        }
      ]
    },
    {
      "cell_type": "code",
      "metadata": {
        "colab": {
          "base_uri": "https://localhost:8080/"
        },
        "id": "PcgKHH7PkBKj",
        "outputId": "40e233aa-94bf-4e9d-f654-cd55827c02a0"
      },
      "source": [
        "len(word_count[word_count.counts>1030])"
      ],
      "execution_count": 101,
      "outputs": [
        {
          "output_type": "execute_result",
          "data": {
            "text/plain": [
              "197"
            ]
          },
          "metadata": {
            "tags": []
          },
          "execution_count": 101
        }
      ]
    },
    {
      "cell_type": "code",
      "metadata": {
        "id": "6b2wEul-h0pw"
      },
      "source": [
        "TOPNCOMMON = 197 #aparece HUAWEI en el lugar 198\n",
        "common_words = word_count.iloc[:TOPNCOMMON,:].word.to_list()"
      ],
      "execution_count": 102,
      "outputs": []
    },
    {
      "cell_type": "code",
      "metadata": {
        "id": "UNXZOgCel_Bx"
      },
      "source": [
        "common_words.remove(\"ABB\")"
      ],
      "execution_count": 103,
      "outputs": []
    },
    {
      "cell_type": "code",
      "metadata": {
        "id": "O0M7l0Ki9atW"
      },
      "source": [
        "def ngrams(string, n=3): \n",
        "    commons = []\n",
        "    text = []\n",
        "    for word in string.split(\" \"):\n",
        "      if word not in common_words:\n",
        "        text.append(word)\n",
        "      else: \n",
        "        commons.append(word)\n",
        "    text = \" \".join(text)\n",
        "    ngrams = zip(*[text[i:] for i in range(n)])\n",
        "    lista = np.unique([''.join(ngram) for ngram in ngrams]+commons).tolist()\n",
        "    return lista"
      ],
      "execution_count": 104,
      "outputs": []
    },
    {
      "cell_type": "markdown",
      "metadata": {
        "id": "38bpybV4K4wW"
      },
      "source": [
        "## `TfidfVectorizer`"
      ]
    },
    {
      "cell_type": "code",
      "metadata": {
        "id": "lWfeZmV6MqSD"
      },
      "source": [
        "from sklearn.feature_extraction.text import TfidfVectorizer\n",
        "\n",
        "\n",
        "vectorizer = TfidfVectorizer(min_df=3, analyzer=ngrams) \n",
        "tf_idf_first_cleaning = vectorizer.fit_transform(first_cleaning)\n"
      ],
      "execution_count": 105,
      "outputs": []
    },
    {
      "cell_type": "code",
      "metadata": {
        "colab": {
          "base_uri": "https://localhost:8080/"
        },
        "id": "_OqVimxlOxgK",
        "outputId": "6681a32a-5e70-40e0-c65c-2ecfe85ac6d7"
      },
      "source": [
        "tf_idf_first_cleaning.shape"
      ],
      "execution_count": 106,
      "outputs": [
        {
          "output_type": "execute_result",
          "data": {
            "text/plain": [
              "(520666, 14792)"
            ]
          },
          "metadata": {
            "tags": []
          },
          "execution_count": 106
        }
      ]
    },
    {
      "cell_type": "markdown",
      "metadata": {
        "id": "YVYouCDzK_4O"
      },
      "source": [
        "## `awesome_cossim_topn`"
      ]
    },
    {
      "cell_type": "code",
      "metadata": {
        "colab": {
          "base_uri": "https://localhost:8080/"
        },
        "id": "6Cl2GS9iO5Wp",
        "outputId": "ea01aa28-c2b5-4b50-f58b-7d90e2d4a5a2"
      },
      "source": [
        "from scipy.sparse import csr_matrix\n",
        "from sparse_dot_topn import awesome_cossim_topn\n",
        "\n",
        "import time\n",
        "t1 = time.time()\n",
        "matches_ngrams = awesome_cossim_topn(tf_idf_first_cleaning, tf_idf_first_cleaning.transpose(), 200, 0.8)\n",
        "t = time.time()-t1\n",
        "print('This program remains {} seconds with ngrams'.format(t))"
      ],
      "execution_count": 107,
      "outputs": [
        {
          "output_type": "stream",
          "text": [
            "This program remains 1217.5998668670654 seconds with ngrams\n"
          ],
          "name": "stdout"
        }
      ]
    },
    {
      "cell_type": "code",
      "metadata": {
        "id": "vDscXa9TPUg_"
      },
      "source": [
        "from scipy import sparse\n",
        "\n",
        "\"\"\"\n",
        "Guardo macheos en un archivo npz porque tarda mucho en correr \n",
        "el producto de matrices, porque son muy grandes. Dado que el resultado es determinístico \n",
        "no es necesario volver a correrlo nuevamente a menos que cambie \n",
        "algún parámetro de la limpieza, del vecotrizador o de la función awesome_cossim_topn\n",
        "\"\"\"\n",
        "\n",
        "ngrams_filename = '/content/drive/MyDrive/base importadores/outputs/TF-IDF_matches_save/ngrams_matces_csr_saving17_06_2021B.npz'\n",
        "sparse.save_npz(ngrams_filename, matches_ngrams)\n",
        "\n",
        "# Para cargar de nuevo la matriz descomentar la siguiente linea. \n",
        "matches_ngrams = sparse.load_npz(ngrams_filename)"
      ],
      "execution_count": 108,
      "outputs": []
    },
    {
      "cell_type": "markdown",
      "metadata": {
        "id": "a2tFp9-1KOB-"
      },
      "source": [
        "## Ejemplos de Similares"
      ]
    },
    {
      "cell_type": "code",
      "metadata": {
        "colab": {
          "base_uri": "https://localhost:8080/",
          "height": 35
        },
        "id": "hDYBsYMxnnHj",
        "outputId": "a31ae753-2e56-4a0d-96e4-6999866f617b"
      },
      "source": [
        "first_cleaning[0]"
      ],
      "execution_count": 109,
      "outputs": [
        {
          "output_type": "execute_result",
          "data": {
            "application/vnd.google.colaboratory.intrinsic+json": {
              "type": "string"
            },
            "text/plain": [
              "'TAKMAY INDUSTRIAL COMPANY LIMITED'"
            ]
          },
          "metadata": {
            "tags": []
          },
          "execution_count": 109
        }
      ]
    },
    {
      "cell_type": "code",
      "metadata": {
        "colab": {
          "base_uri": "https://localhost:8080/"
        },
        "id": "ce17z1ORTFzi",
        "outputId": "fb212a82-400b-4c11-9e5a-a47902ad87da"
      },
      "source": [
        "print(matches_ngrams[0,:])"
      ],
      "execution_count": 110,
      "outputs": [
        {
          "output_type": "stream",
          "text": [
            "  (0, 0)\t1.0\n",
            "  (0, 450892)\t0.9770238834328502\n",
            "  (0, 203198)\t0.9681518484806251\n",
            "  (0, 78083)\t0.9217589977381133\n",
            "  (0, 285972)\t0.8892040291683554\n",
            "  (0, 12441)\t0.8728706342718306\n",
            "  (0, 462536)\t0.8592617212038003\n",
            "  (0, 178912)\t0.8281800393072007\n"
          ],
          "name": "stdout"
        }
      ]
    },
    {
      "cell_type": "code",
      "metadata": {
        "colab": {
          "base_uri": "https://localhost:8080/"
        },
        "id": "8rzp1lVaSJha",
        "outputId": "59052c70-7ca1-49fd-b38b-c8c3d0e24694"
      },
      "source": [
        "for i in matches_ngrams[0,:].indices: \n",
        "  print(first_cleaning[i])"
      ],
      "execution_count": 111,
      "outputs": [
        {
          "output_type": "stream",
          "text": [
            "TAKMAY INDUSTRIAL COMPANY LIMITED\n",
            "TAKMAY INDUSTRIAL COMPANY\n",
            "TAKMAY INDUSTRIAL COMPANY LTD\n",
            "TAKMAY INDUSTRIAL CO LTD\n",
            "TAKMAY INDUSTRIAL CO LTD OP\n",
            "TAKMAY INDUSTRIAL COLTD OP\n",
            "TAKMAY IND CO LTD\n",
            "TAKMAY IND CO LTD OP\n"
          ],
          "name": "stdout"
        }
      ]
    },
    {
      "cell_type": "code",
      "metadata": {
        "colab": {
          "base_uri": "https://localhost:8080/"
        },
        "id": "sn-bk8XaTabP",
        "outputId": "839bc5fc-15a1-4818-f118-045e99a77694"
      },
      "source": [
        "print(\"YA CORRIO TODOOOO\")"
      ],
      "execution_count": 112,
      "outputs": [
        {
          "output_type": "stream",
          "text": [
            "YA CORRIO TODOOOO\n"
          ],
          "name": "stdout"
        }
      ]
    },
    {
      "cell_type": "markdown",
      "metadata": {
        "id": "ydvmQzq6KRcN"
      },
      "source": [
        "## Obtengo similares"
      ]
    },
    {
      "cell_type": "code",
      "metadata": {
        "colab": {
          "base_uri": "https://localhost:8080/"
        },
        "id": "0m_SjnoFKKop",
        "outputId": "6acc5f65-d1fe-427c-ce4f-10fb1623bdc2"
      },
      "source": [
        "from tqdm import tqdm\n",
        "\n",
        "massive_dict = {}\n",
        "for key in tqdm(range(matches_ngrams.shape[0])):\n",
        "  massive_dict[key] = matches_ngrams[key,:].indices\n",
        "\n",
        "ya_vistos = {}\n",
        "grupos = []\n",
        "for i in tqdm(range(matches_ngrams.shape[0])): \n",
        "  if i not in ya_vistos:\n",
        "    ya_vistos[i]=1\n",
        "    unicos = massive_dict[i].tolist()\n",
        "    if len(unicos)>1:\n",
        "      indices = massive_dict[i][1:]\n",
        "      for ind in indices:\n",
        "        if ind not in ya_vistos:\n",
        "          ya_vistos[ind]=1\n",
        "          unicos = unicos + massive_dict[ind].tolist()\n",
        "      unicos = list(set(unicos))\n",
        "      grupos.append(unicos)\n",
        "    else: \n",
        "      ya_vistos[i]=1\n",
        "      grupos.append(unicos)"
      ],
      "execution_count": 114,
      "outputs": [
        {
          "output_type": "stream",
          "text": [
            "100%|██████████| 520666/520666 [00:58<00:00, 8881.55it/s] \n",
            "100%|██████████| 520666/520666 [00:03<00:00, 152000.07it/s]\n"
          ],
          "name": "stderr"
        }
      ]
    },
    {
      "cell_type": "code",
      "metadata": {
        "colab": {
          "base_uri": "https://localhost:8080/"
        },
        "id": "fN1RJqR-MRQe",
        "outputId": "355a8943-5daf-4cfc-9560-533484b3c84b"
      },
      "source": [
        "second_cleaning_tfidf = pd.DataFrame(first_cleaning, columns = ['unicos_first_cleaning'])\n",
        "\n",
        "from tqdm import tqdm\n",
        "import functools\n",
        "\n",
        "second_cleaning_tfidf['tfidf_cleaning'] = \"no name\"\n",
        "for group in tqdm(grupos): \n",
        "  names = second_cleaning_tfidf.iloc[np.array(group, dtype=\"int64\")]['unicos_first_cleaning'].to_list()\n",
        "  if len(names)>1:\n",
        "    group_name = functools.reduce(lambda a,b: b if len(a.split(\" \"))>len(b.split(\" \")) else a, names).lstrip().rstrip()\n",
        "  elif names == []:\n",
        "    pass\n",
        "  else:\n",
        "    group_name = names[0].lstrip().rstrip() \n",
        "  second_cleaning_tfidf.iloc[np.array(group, dtype=\"int64\"),1] = group_name"
      ],
      "execution_count": 115,
      "outputs": [
        {
          "output_type": "stream",
          "text": [
            "100%|██████████| 295716/295716 [02:18<00:00, 2142.37it/s]\n"
          ],
          "name": "stderr"
        }
      ]
    },
    {
      "cell_type": "code",
      "metadata": {
        "id": "t2PIrxs3P4tU"
      },
      "source": [
        "second_cleaning_tfidf.to_csv(\"/content/drive/MyDrive/base importadores/outputs/tfidf_cleaning/tfidf_cleaning17_06_2021B.csv\", index=False)"
      ],
      "execution_count": 154,
      "outputs": []
    }
  ]
}