{
  "nbformat": 4,
  "nbformat_minor": 0,
  "metadata": {
    "colab": {
      "name": "TFIDF String Matching.ipynb",
      "provenance": [],
      "collapsed_sections": [],
      "authorship_tag": "ABX9TyMpj0PzWCJ+sE9JxDGi9L6L",
      "include_colab_link": true
    },
    "kernelspec": {
      "name": "python3",
      "display_name": "Python 3"
    },
    "language_info": {
      "name": "python"
    }
  },
  "cells": [
    {
      "cell_type": "markdown",
      "metadata": {
        "id": "view-in-github",
        "colab_type": "text"
      },
      "source": [
        "<a href=\"https://colab.research.google.com/github/Ignacio-Ibarra/Approximate-String-Matching/blob/main/TFIDF_String_Matching.ipynb\" target=\"_parent\"><img src=\"https://colab.research.google.com/assets/colab-badge.svg\" alt=\"Open In Colab\"/></a>"
      ]
    },
    {
      "cell_type": "code",
      "metadata": {
        "colab": {
          "base_uri": "https://localhost:8080/"
        },
        "id": "pM1LbFfH17rL",
        "outputId": "824230c4-c522-4a45-bf36-c163caaad297"
      },
      "source": [
        "#Paquetes Básicos\n",
        "import pandas as pd\n",
        "import numpy as np\n",
        "import random\n",
        "import os\n",
        "import time\n",
        "import matplotlib.pyplot as plt\n",
        "from functools import reduce\n",
        " \n",
        "#NLP \n",
        "import nltk\n",
        "import re\n",
        "import string\n",
        "import unicodedata\n",
        "from sklearn.feature_extraction.text import TfidfVectorizer\n",
        "!pip install sparse_dot_topn\n",
        "from scipy.sparse import csr_matrix\n",
        "import sparse_dot_topn.sparse_dot_topn as ct\n",
        " \n",
        "#Montando Drive en la Session de Google Colab\n",
        "from google.colab import drive \n",
        "drive.mount(\"/content/drive\")\n",
        " \n",
        "#Displaying options\n",
        "pd.set_option(\"max_colwidth\", 60)\n",
        " \n",
        "#RUTA DATASET \n",
        "DIRTY_NAMES = '/content/drive/MyDrive/base importadores/outputs/sucios_a_first_cleaning/sucios_a_first_cleaning18_06_21.csv'"
      ],
      "execution_count": null,
      "outputs": [
        {
          "output_type": "stream",
          "text": [
            "Requirement already satisfied: sparse_dot_topn in /usr/local/lib/python3.7/dist-packages (0.3.1)\n",
            "Requirement already satisfied: setuptools>=42 in /usr/local/lib/python3.7/dist-packages (from sparse_dot_topn) (57.0.0)\n",
            "Requirement already satisfied: scipy>=1.2.3 in /usr/local/lib/python3.7/dist-packages (from sparse_dot_topn) (1.4.1)\n",
            "Requirement already satisfied: numpy>=1.16.6 in /usr/local/lib/python3.7/dist-packages (from sparse_dot_topn) (1.19.5)\n",
            "Requirement already satisfied: cython>=0.29.15 in /usr/local/lib/python3.7/dist-packages (from sparse_dot_topn) (0.29.23)\n",
            "Drive already mounted at /content/drive; to attempt to forcibly remount, call drive.mount(\"/content/drive\", force_remount=True).\n"
          ],
          "name": "stdout"
        }
      ]
    },
    {
      "cell_type": "markdown",
      "metadata": {
        "id": "xQ6rUNyZ9Uc_"
      },
      "source": [
        "# TFIDF"
      ]
    },
    {
      "cell_type": "code",
      "metadata": {
        "id": "UX3ZX5k0JlOW"
      },
      "source": [
        "dirty_company_names = pd.read_csv(DIRTY_NAMES)\n",
        "dirty_company_names = dirty_company_names[dirty_company_names.first_cleaning!=\"Se borró nombre en limpieza\"].reset_index(drop=True)\n",
        "first_cleaning = dirty_company_names.first_cleaning.unique().tolist()"
      ],
      "execution_count": null,
      "outputs": []
    },
    {
      "cell_type": "code",
      "metadata": {
        "colab": {
          "base_uri": "https://localhost:8080/",
          "height": 422
        },
        "id": "d7p6M9GdgY4b",
        "outputId": "4deb1306-5a82-4972-9030-0bd9821e7399"
      },
      "source": [
        "dirty_company_names[dirty_company_names.first_cleaning.str.contains(\"SUZHOU\")]"
      ],
      "execution_count": null,
      "outputs": [
        {
          "output_type": "execute_result",
          "data": {
            "text/html": [
              "<div>\n",
              "<style scoped>\n",
              "    .dataframe tbody tr th:only-of-type {\n",
              "        vertical-align: middle;\n",
              "    }\n",
              "\n",
              "    .dataframe tbody tr th {\n",
              "        vertical-align: top;\n",
              "    }\n",
              "\n",
              "    .dataframe thead th {\n",
              "        text-align: right;\n",
              "    }\n",
              "</style>\n",
              "<table border=\"1\" class=\"dataframe\">\n",
              "  <thead>\n",
              "    <tr style=\"text-align: right;\">\n",
              "      <th></th>\n",
              "      <th>id</th>\n",
              "      <th>unicos_sucios</th>\n",
              "      <th>first_cleaning</th>\n",
              "    </tr>\n",
              "  </thead>\n",
              "  <tbody>\n",
              "    <tr>\n",
              "      <th>1390</th>\n",
              "      <td>1390</td>\n",
              "      <td>(052448)SAMSUNG ELECTRONICS SUZHOU COMPUTER CO L</td>\n",
              "      <td>SAMSUNG ELECTRONICS SUZHOU COMPUTER CO L</td>\n",
              "    </tr>\n",
              "    <tr>\n",
              "      <th>3244</th>\n",
              "      <td>3250</td>\n",
              "      <td>(00020508)SUZHOU YINGHAN TEXTILE CO.'LTD.</td>\n",
              "      <td>SUZHOU YINGHAN TEXTILE CO LTD</td>\n",
              "    </tr>\n",
              "    <tr>\n",
              "      <th>3323</th>\n",
              "      <td>3329</td>\n",
              "      <td>(010744) SUZHOU PARSUN POWER MACHINE CO LTD</td>\n",
              "      <td>SUZHOU PARSUN POWER MACHINE CO LTD</td>\n",
              "    </tr>\n",
              "    <tr>\n",
              "      <th>4396</th>\n",
              "      <td>4413</td>\n",
              "      <td>R.16869 SUZHOU (CHINA) SUNSHINE HARDWARE&amp; EQUIMENT</td>\n",
              "      <td>R SUZHOU SUNSHINE HARDWARE EQUIMENT</td>\n",
              "    </tr>\n",
              "    <tr>\n",
              "      <th>4818</th>\n",
              "      <td>4835</td>\n",
              "      <td>SUZHOU SUNMED CO.' LTD MV: 3715-17</td>\n",
              "      <td>SUZHOU SUNMED CO LTD MV</td>\n",
              "    </tr>\n",
              "    <tr>\n",
              "      <th>...</th>\n",
              "      <td>...</td>\n",
              "      <td>...</td>\n",
              "      <td>...</td>\n",
              "    </tr>\n",
              "    <tr>\n",
              "      <th>2300881</th>\n",
              "      <td>2309232</td>\n",
              "      <td>(140030)UOG OPTICS SUZHOU CO.'LTD</td>\n",
              "      <td>UOG OPTICS SUZHOU CO LTD</td>\n",
              "    </tr>\n",
              "    <tr>\n",
              "      <th>2301456</th>\n",
              "      <td>2309807</td>\n",
              "      <td>(064116)SUZHOU SAMSUNG ELECTRONICS CO. LTD.</td>\n",
              "      <td>SUZHOU SAMSUNG ELECTRONICS CO LTD</td>\n",
              "    </tr>\n",
              "    <tr>\n",
              "      <th>2302627</th>\n",
              "      <td>2310987</td>\n",
              "      <td>SUZHOU DOUBLE GOLD INDUSTRY CO. LTD -</td>\n",
              "      <td>SUZHOU DOUBLE GOLD INDUSTRY CO LTD</td>\n",
              "    </tr>\n",
              "    <tr>\n",
              "      <th>2303331</th>\n",
              "      <td>2311693</td>\n",
              "      <td>(100155)SUZHOU QUANJUDA PURIFICATION TECH CO., LTD</td>\n",
              "      <td>SUZHOU QUANJUDA PURIFICATION TECH CO LTD</td>\n",
              "    </tr>\n",
              "    <tr>\n",
              "      <th>2303386</th>\n",
              "      <td>2311748</td>\n",
              "      <td>(066428)SUZHOU SAMSUNG ELECTRONICS CO. LTD.</td>\n",
              "      <td>SUZHOU SAMSUNG ELECTRONICS CO LTD</td>\n",
              "    </tr>\n",
              "  </tbody>\n",
              "</table>\n",
              "<p>3754 rows × 3 columns</p>\n",
              "</div>"
            ],
            "text/plain": [
              "              id  ...                            first_cleaning\n",
              "1390        1390  ...  SAMSUNG ELECTRONICS SUZHOU COMPUTER CO L\n",
              "3244        3250  ...             SUZHOU YINGHAN TEXTILE CO LTD\n",
              "3323        3329  ...        SUZHOU PARSUN POWER MACHINE CO LTD\n",
              "4396        4413  ...       R SUZHOU SUNSHINE HARDWARE EQUIMENT\n",
              "4818        4835  ...                   SUZHOU SUNMED CO LTD MV\n",
              "...          ...  ...                                       ...\n",
              "2300881  2309232  ...                  UOG OPTICS SUZHOU CO LTD\n",
              "2301456  2309807  ...         SUZHOU SAMSUNG ELECTRONICS CO LTD\n",
              "2302627  2310987  ...        SUZHOU DOUBLE GOLD INDUSTRY CO LTD\n",
              "2303331  2311693  ...  SUZHOU QUANJUDA PURIFICATION TECH CO LTD\n",
              "2303386  2311748  ...         SUZHOU SAMSUNG ELECTRONICS CO LTD\n",
              "\n",
              "[3754 rows x 3 columns]"
            ]
          },
          "metadata": {
            "tags": []
          },
          "execution_count": 38
        }
      ]
    },
    {
      "cell_type": "markdown",
      "metadata": {
        "id": "ktWD9R_pKq5V"
      },
      "source": [
        "## n-gramas, common_words & odd_words\n",
        "\n"
      ]
    },
    {
      "cell_type": "code",
      "metadata": {
        "id": "0cEUSloIhbL4"
      },
      "source": [
        "from collections import Counter\n",
        "\n",
        "def get_corpus_splitted(serie): \n",
        "  text = \" \".join(serie)\n",
        "  return re.findall(r'\\b\\S+\\b', text)\n",
        "\n",
        "def wordcount_df_from_serie(serie): \n",
        "  counter = Counter()\n",
        "  text = get_corpus_splitted(serie)\n",
        "  for word in text:\n",
        "    counter[word] +=1\n",
        "  return pd.DataFrame(counter.items(), columns=['word', 'counts']).sort_values(by=\"counts\", ascending=False).reset_index(drop=True)"
      ],
      "execution_count": null,
      "outputs": []
    },
    {
      "cell_type": "code",
      "metadata": {
        "id": "S8ARBKuehmvZ"
      },
      "source": [
        "word_count = wordcount_df_from_serie(first_cleaning)"
      ],
      "execution_count": null,
      "outputs": []
    },
    {
      "cell_type": "code",
      "metadata": {
        "colab": {
          "base_uri": "https://localhost:8080/",
          "height": 412
        },
        "id": "oiBAJuFrjW0s",
        "outputId": "95d28a1a-98c2-4a2e-9f7f-fd908a58fe6e"
      },
      "source": [
        "import matplotlib.pyplot as plt\n",
        "\n",
        "plt.rcParams['figure.figsize'] = (10,6.7)\n",
        "fig, ax = plt.subplots()\n",
        "\n",
        "#graphic = word_count[word_count.length<3]\n",
        "graphic = word_count\n",
        "\n",
        "words = graphic.word.to_numpy()\n",
        "x_pos = np.arange(len(words))\n",
        "counts = graphic.counts\n",
        "\n",
        "ax.plot(x_pos, counts)\n",
        "plt.yscale('log')\n",
        "plt.xscale('linear')\n",
        "# ax.set_xticks(x_pos)\n",
        "# ax.set_xticklabels(words, rotation=90)\n",
        "#ax.invert_xaxis()  # labels read top-to-bottom\n",
        "# ax.set_ylabel('Quantity')\n",
        "# ax.set_title('Most Common Words')\n",
        "\n",
        "plt.show()"
      ],
      "execution_count": null,
      "outputs": [
        {
          "output_type": "display_data",
          "data": {
            "image/png": "[encoded data removed]",
            "text/plain": [
              "<Figure size 720x482.4 with 1 Axes>"
            ]
          },
          "metadata": {
            "tags": [],
            "needs_background": "light"
          }
        }
      ]
    },
    {
      "cell_type": "code",
      "metadata": {
        "id": "uyGukvjJiesS"
      },
      "source": [
        "word_count['length'] = word_count.word.apply(lambda x: len(x))"
      ],
      "execution_count": null,
      "outputs": []
    },
    {
      "cell_type": "code",
      "metadata": {
        "colab": {
          "base_uri": "https://localhost:8080/",
          "height": 442
        },
        "id": "PcgKHH7PkBKj",
        "outputId": "4681b559-79ce-4e48-c3bb-69deac5ea1d4"
      },
      "source": [
        "import matplotlib.pyplot as plt\n",
        "\n",
        "plt.rcParams['figure.figsize'] = (10,6.7)\n",
        "fig, ax = plt.subplots()\n",
        "\n",
        "length = word_count.length.to_numpy()\n",
        "counts = word_count.counts.to_numpy()\n",
        "\n",
        "ax.hist(np.log2(length))\n",
        "\n",
        "ax.set_xticklabels([0,1,2,4,8,16,32])\n",
        "ax.set_xlabel(\"Log2 del Largo de Palabra\")\n",
        "ax.set_ylabel('Frecuencia')\n",
        "ax.set_title('Distribución del Largo de Las Palabras')\n",
        "\n",
        "plt.show()"
      ],
      "execution_count": null,
      "outputs": [
        {
          "output_type": "display_data",
          "data": {
            "image/png": "[encoded data removed]",
            "text/plain": [
              "<Figure size 720x482.4 with 1 Axes>"
            ]
          },
          "metadata": {
            "tags": [],
            "needs_background": "light"
          }
        }
      ]
    },
    {
      "cell_type": "markdown",
      "metadata": {
        "id": "0OUa3v6A1IEE"
      },
      "source": [
        "Sacamos las palabras menos comunes y cortas para que no influyan tanto"
      ]
    },
    {
      "cell_type": "code",
      "metadata": {
        "colab": {
          "base_uri": "https://localhost:8080/",
          "height": 422
        },
        "id": "emOCkpbr7KEz",
        "outputId": "15b400a5-c256-471e-e5e5-9dab8d87e5b0"
      },
      "source": [
        "dirty_company_names[dirty_company_names.unicos_sucios.str.contains(\"CATERPILLAR\")]"
      ],
      "execution_count": null,
      "outputs": [
        {
          "output_type": "execute_result",
          "data": {
            "text/html": [
              "<div>\n",
              "<style scoped>\n",
              "    .dataframe tbody tr th:only-of-type {\n",
              "        vertical-align: middle;\n",
              "    }\n",
              "\n",
              "    .dataframe tbody tr th {\n",
              "        vertical-align: top;\n",
              "    }\n",
              "\n",
              "    .dataframe thead th {\n",
              "        text-align: right;\n",
              "    }\n",
              "</style>\n",
              "<table border=\"1\" class=\"dataframe\">\n",
              "  <thead>\n",
              "    <tr style=\"text-align: right;\">\n",
              "      <th></th>\n",
              "      <th>id</th>\n",
              "      <th>unicos_sucios</th>\n",
              "      <th>first_cleaning</th>\n",
              "    </tr>\n",
              "  </thead>\n",
              "  <tbody>\n",
              "    <tr>\n",
              "      <th>145</th>\n",
              "      <td>145</td>\n",
              "      <td>CATERPILLAR' INC.</td>\n",
              "      <td>CATERPILLAR INC</td>\n",
              "    </tr>\n",
              "    <tr>\n",
              "      <th>1121</th>\n",
              "      <td>1121</td>\n",
              "      <td>(098961)CATERPILLAR  AMERICAS C.V.-158010842 - MK</td>\n",
              "      <td>CATERPILLAR AMERICAS CV MK</td>\n",
              "    </tr>\n",
              "    <tr>\n",
              "      <th>1125</th>\n",
              "      <td>1125</td>\n",
              "      <td>(102010) CATERPILLAR AMERICAS C.V.SUDU250013028KVR</td>\n",
              "      <td>CATERPILLAR AMERICAS CVSUDUKVR</td>\n",
              "    </tr>\n",
              "    <tr>\n",
              "      <th>1126</th>\n",
              "      <td>1126</td>\n",
              "      <td>(102599)CATERPILLAR  AMERICAS C.V.-158050594 - MK</td>\n",
              "      <td>CATERPILLAR AMERICAS CV MK</td>\n",
              "    </tr>\n",
              "    <tr>\n",
              "      <th>1133</th>\n",
              "      <td>1133</td>\n",
              "      <td>(108083)CATERPILLAR  AMERICAS C.V.-158110233 NB</td>\n",
              "      <td>CATERPILLAR AMERICAS CV NB</td>\n",
              "    </tr>\n",
              "    <tr>\n",
              "      <th>...</th>\n",
              "      <td>...</td>\n",
              "      <td>...</td>\n",
              "      <td>...</td>\n",
              "    </tr>\n",
              "    <tr>\n",
              "      <th>2310372</th>\n",
              "      <td>2311131</td>\n",
              "      <td>CATERPILLAR AMERICAS CV ALX-208100333 (679417)</td>\n",
              "      <td>CATERPILLAR AMERICAS CV ALX</td>\n",
              "    </tr>\n",
              "    <tr>\n",
              "      <th>2310484</th>\n",
              "      <td>2311243</td>\n",
              "      <td>(603859)CATERPILLAR  AMERICAS C.V.-ALX-198120512</td>\n",
              "      <td>CATERPILLAR AMERICAS CV ALX</td>\n",
              "    </tr>\n",
              "    <tr>\n",
              "      <th>2311174</th>\n",
              "      <td>2311933</td>\n",
              "      <td>(609242)CATERPILLAR  AMERICAS C.V.ALX-218011930</td>\n",
              "      <td>CATERPILLAR AMERICAS CVALX</td>\n",
              "    </tr>\n",
              "    <tr>\n",
              "      <th>2311175</th>\n",
              "      <td>2311934</td>\n",
              "      <td>(609565)CATERPILLAR  AMERICAS C.V.-ALX-218030079</td>\n",
              "      <td>CATERPILLAR AMERICAS CV ALX</td>\n",
              "    </tr>\n",
              "    <tr>\n",
              "      <th>2311251</th>\n",
              "      <td>2312010</td>\n",
              "      <td>(610037)CATERPILLAR S.A.R.L.-EQ002434</td>\n",
              "      <td>CATERPILLAR SARL EQ</td>\n",
              "    </tr>\n",
              "  </tbody>\n",
              "</table>\n",
              "<p>18568 rows × 3 columns</p>\n",
              "</div>"
            ],
            "text/plain": [
              "              id  ...                  first_cleaning\n",
              "145          145  ...                 CATERPILLAR INC\n",
              "1121        1121  ...      CATERPILLAR AMERICAS CV MK\n",
              "1125        1125  ...  CATERPILLAR AMERICAS CVSUDUKVR\n",
              "1126        1126  ...      CATERPILLAR AMERICAS CV MK\n",
              "1133        1133  ...      CATERPILLAR AMERICAS CV NB\n",
              "...          ...  ...                             ...\n",
              "2310372  2311131  ...     CATERPILLAR AMERICAS CV ALX\n",
              "2310484  2311243  ...     CATERPILLAR AMERICAS CV ALX\n",
              "2311174  2311933  ...      CATERPILLAR AMERICAS CVALX\n",
              "2311175  2311934  ...     CATERPILLAR AMERICAS CV ALX\n",
              "2311251  2312010  ...             CATERPILLAR SARL EQ\n",
              "\n",
              "[18568 rows x 3 columns]"
            ]
          },
          "metadata": {
            "tags": []
          },
          "execution_count": 8
        }
      ]
    },
    {
      "cell_type": "code",
      "metadata": {
        "colab": {
          "base_uri": "https://localhost:8080/"
        },
        "id": "7MS7lruc_r7t",
        "outputId": "5981559c-338a-4b8a-fc58-757761a2f592"
      },
      "source": [
        "len(semi_odd_words)"
      ],
      "execution_count": null,
      "outputs": [
        {
          "output_type": "execute_result",
          "data": {
            "text/plain": [
              "540"
            ]
          },
          "metadata": {
            "tags": []
          },
          "execution_count": 70
        }
      ]
    },
    {
      "cell_type": "code",
      "metadata": {
        "id": "RTszo6Q51dt9"
      },
      "source": [
        "semi_odd_words = word_count[(word_count.counts.between(10,900)) & (word_count.length.between(1,2))& (word_count.word.isin([\"3M\",\"LG\"])==False)].set_index('word')['counts'].to_dict()\n",
        "\n"
      ],
      "execution_count": null,
      "outputs": []
    },
    {
      "cell_type": "code",
      "metadata": {
        "colab": {
          "base_uri": "https://localhost:8080/"
        },
        "id": "QIrtazkFMSTu",
        "outputId": "aa3ed5c6-4641-4e16-a9f8-d19daa41b1ce"
      },
      "source": [
        "semi_odd_words[\"HW\"]"
      ],
      "execution_count": null,
      "outputs": [
        {
          "output_type": "execute_result",
          "data": {
            "text/plain": [
              "644"
            ]
          },
          "metadata": {
            "tags": []
          },
          "execution_count": 121
        }
      ]
    },
    {
      "cell_type": "code",
      "metadata": {
        "id": "vYlEm80K20pz"
      },
      "source": [
        "def del_odd_words(text): \n",
        "  return \" \".join([word for word in text.split(\" \") if word not in semi_odd_words])"
      ],
      "execution_count": null,
      "outputs": []
    },
    {
      "cell_type": "code",
      "metadata": {
        "colab": {
          "base_uri": "https://localhost:8080/",
          "height": 35
        },
        "id": "xLvp4K73NLJS",
        "outputId": "05abeb4d-fccf-4cdb-e9b9-21457f49be7c"
      },
      "source": [
        "del_odd_words(\"HUAWEI INTERNATIONAL CL GDL HW\")"
      ],
      "execution_count": null,
      "outputs": [
        {
          "output_type": "execute_result",
          "data": {
            "application/vnd.google.colaboratory.intrinsic+json": {
              "type": "string"
            },
            "text/plain": [
              "'HUAWEI INTERNATIONAL GDL'"
            ]
          },
          "metadata": {
            "tags": []
          },
          "execution_count": 124
        }
      ]
    },
    {
      "cell_type": "code",
      "metadata": {
        "colab": {
          "base_uri": "https://localhost:8080/",
          "height": 456
        },
        "id": "VSmbeGPP-IX6",
        "outputId": "639c93e7-3825-4c14-ad23-7710d81af892"
      },
      "source": [
        "second_cleaning = dirty_company_names.copy()\n",
        "second_cleaning['second_cleaning'] = second_cleaning.first_cleaning.apply(lambda x: del_odd_words(x))\n",
        "second_cleaning.loc[second_cleaning.second_cleaning==\"\", \"second_cleaning\"]=\"Se borró nombre en limpieza\"\n",
        "second_cleaning"
      ],
      "execution_count": null,
      "outputs": [
        {
          "output_type": "execute_result",
          "data": {
            "text/html": [
              "<div>\n",
              "<style scoped>\n",
              "    .dataframe tbody tr th:only-of-type {\n",
              "        vertical-align: middle;\n",
              "    }\n",
              "\n",
              "    .dataframe tbody tr th {\n",
              "        vertical-align: top;\n",
              "    }\n",
              "\n",
              "    .dataframe thead th {\n",
              "        text-align: right;\n",
              "    }\n",
              "</style>\n",
              "<table border=\"1\" class=\"dataframe\">\n",
              "  <thead>\n",
              "    <tr style=\"text-align: right;\">\n",
              "      <th></th>\n",
              "      <th>id</th>\n",
              "      <th>unicos_sucios</th>\n",
              "      <th>first_cleaning</th>\n",
              "      <th>second_cleaning</th>\n",
              "    </tr>\n",
              "  </thead>\n",
              "  <tbody>\n",
              "    <tr>\n",
              "      <th>0</th>\n",
              "      <td>0</td>\n",
              "      <td>TAKMAY INDUSTRIAL COMPANY LIMITED</td>\n",
              "      <td>TAKMAY INDUSTRIAL COMPANY LIMITED</td>\n",
              "      <td>TAKMAY INDUSTRIAL COMPANY LIMITED</td>\n",
              "    </tr>\n",
              "    <tr>\n",
              "      <th>1</th>\n",
              "      <td>1</td>\n",
              "      <td>TEAMBO INDUSTRY LIMITED</td>\n",
              "      <td>TEAMBO INDUSTRY LIMITED</td>\n",
              "      <td>TEAMBO INDUSTRY LIMITED</td>\n",
              "    </tr>\n",
              "    <tr>\n",
              "      <th>2</th>\n",
              "      <td>2</td>\n",
              "      <td>(768981)SMARTMAX ENTERPRISES LIMITED</td>\n",
              "      <td>SMARTMAX ENTERPRISES LIMITED</td>\n",
              "      <td>SMARTMAX ENTERPRISES LIMITED</td>\n",
              "    </tr>\n",
              "    <tr>\n",
              "      <th>3</th>\n",
              "      <td>3</td>\n",
              "      <td>MASCHIENENBAU HALDENWANG HMBH&amp;CO.KG ABA 514</td>\n",
              "      <td>MASCHIENENBAU HALDENWANG HMBH&amp;CO KG ABA</td>\n",
              "      <td>MASCHIENENBAU HALDENWANG HMBH&amp;CO KG ABA</td>\n",
              "    </tr>\n",
              "    <tr>\n",
              "      <th>4</th>\n",
              "      <td>4</td>\n",
              "      <td>(070434)LONGINOTTI GROUP S.R.L</td>\n",
              "      <td>LONGINOTTI GROUP S R L</td>\n",
              "      <td>LONGINOTTI GROUP S R L</td>\n",
              "    </tr>\n",
              "    <tr>\n",
              "      <th>...</th>\n",
              "      <td>...</td>\n",
              "      <td>...</td>\n",
              "      <td>...</td>\n",
              "      <td>...</td>\n",
              "    </tr>\n",
              "    <tr>\n",
              "      <th>2303933</th>\n",
              "      <td>2312296</td>\n",
              "      <td>RENOBAT ENERGY SOLUTIONS</td>\n",
              "      <td>RENOBAT ENERGY SOLUTIONS</td>\n",
              "      <td>RENOBAT ENERGY SOLUTIONS</td>\n",
              "    </tr>\n",
              "    <tr>\n",
              "      <th>2303934</th>\n",
              "      <td>2312297</td>\n",
              "      <td>HEBEI MINGSHUAI FURNITURE  SALES CO. LTD</td>\n",
              "      <td>HEBEI MINGSHUAI FURNITURE SALES CO LTD</td>\n",
              "      <td>HEBEI MINGSHUAI FURNITURE SALES CO LTD</td>\n",
              "    </tr>\n",
              "    <tr>\n",
              "      <th>2303935</th>\n",
              "      <td>2312298</td>\n",
              "      <td>DOMSJO FABRIKER AB / 18932</td>\n",
              "      <td>DOMSJO FABRIKER AB</td>\n",
              "      <td>DOMSJO FABRIKER AB</td>\n",
              "    </tr>\n",
              "    <tr>\n",
              "      <th>2303936</th>\n",
              "      <td>2312299</td>\n",
              "      <td>(20003447)PIRELLI TYRE S.P.A</td>\n",
              "      <td>PIRELLI TYRE S P A</td>\n",
              "      <td>PIRELLI TYRE S P A</td>\n",
              "    </tr>\n",
              "    <tr>\n",
              "      <th>2303937</th>\n",
              "      <td>2312300</td>\n",
              "      <td>(54433) NCR CORPORATION</td>\n",
              "      <td>NCR CORPORATION</td>\n",
              "      <td>NCR CORPORATION</td>\n",
              "    </tr>\n",
              "  </tbody>\n",
              "</table>\n",
              "<p>2303938 rows × 4 columns</p>\n",
              "</div>"
            ],
            "text/plain": [
              "              id  ...                          second_cleaning\n",
              "0              0  ...        TAKMAY INDUSTRIAL COMPANY LIMITED\n",
              "1              1  ...                  TEAMBO INDUSTRY LIMITED\n",
              "2              2  ...             SMARTMAX ENTERPRISES LIMITED\n",
              "3              3  ...  MASCHIENENBAU HALDENWANG HMBH&CO KG ABA\n",
              "4              4  ...                   LONGINOTTI GROUP S R L\n",
              "...          ...  ...                                      ...\n",
              "2303933  2312296  ...                 RENOBAT ENERGY SOLUTIONS\n",
              "2303934  2312297  ...   HEBEI MINGSHUAI FURNITURE SALES CO LTD\n",
              "2303935  2312298  ...                       DOMSJO FABRIKER AB\n",
              "2303936  2312299  ...                       PIRELLI TYRE S P A\n",
              "2303937  2312300  ...                          NCR CORPORATION\n",
              "\n",
              "[2303938 rows x 4 columns]"
            ]
          },
          "metadata": {
            "tags": []
          },
          "execution_count": 125
        }
      ]
    },
    {
      "cell_type": "code",
      "metadata": {
        "id": "qWBspPA8An8g"
      },
      "source": [
        "second_cleaning.to_csv(\"/content/drive/MyDrive/base importadores/outputs/first_a_second_cleaning/first_second18-06-21B.csv\", index=False)"
      ],
      "execution_count": null,
      "outputs": []
    },
    {
      "cell_type": "markdown",
      "metadata": {
        "id": "saZuAz9XPLOe"
      },
      "source": [
        "Vectorizo por n-gramas (n=3) y las palabras más comunes las vectorizo como palabras y no como N-gramas. "
      ]
    },
    {
      "cell_type": "code",
      "metadata": {
        "id": "qJ2raY23BqUt"
      },
      "source": [
        "second_cleaning = pd.read_csv(\"/content/drive/MyDrive/base importadores/outputs/first_a_second_cleaning/first_second18-06-21B.csv\")"
      ],
      "execution_count": null,
      "outputs": []
    },
    {
      "cell_type": "code",
      "metadata": {
        "id": "6b2wEul-h0pw"
      },
      "source": [
        "word_count = wordcount_df_from_serie(second_cleaning.second_cleaning.to_list())\n",
        "TOPNCOMMON = 196 #la idea es armar una lista de palabras que no sean nombre propio \n",
        "                 #(sí va BRASIL, pero no HUAWEI, CATERPILLAR aunque se repitan mucho)\n",
        "common_words = word_count.iloc[:TOPNCOMMON,:].word.to_list()"
      ],
      "execution_count": null,
      "outputs": []
    },
    {
      "cell_type": "code",
      "metadata": {
        "colab": {
          "base_uri": "https://localhost:8080/"
        },
        "id": "kHhswKvWeOvy",
        "outputId": "02512225-ff35-4e84-efe5-cde9385f6054"
      },
      "source": [
        "common_words"
      ],
      "execution_count": null,
      "outputs": [
        {
          "output_type": "execute_result",
          "data": {
            "text/plain": [
              "['LTD',\n",
              " 'CO',\n",
              " 'S',\n",
              " 'A',\n",
              " 'LTDA',\n",
              " 'INC',\n",
              " 'BRASIL',\n",
              " 'DE',\n",
              " 'INTERNATIONAL',\n",
              " 'GMBH',\n",
              " 'I',\n",
              " 'LIMITED',\n",
              " 'SA',\n",
              " 'E',\n",
              " 'DO',\n",
              " 'C',\n",
              " 'COMPANY',\n",
              " 'LLC',\n",
              " 'CORPORATION',\n",
              " 'AMERICA',\n",
              " 'AG',\n",
              " 'V',\n",
              " 'L',\n",
              " 'TRADING',\n",
              " 'IND',\n",
              " 'INDUSTRIAL',\n",
              " 'AND',\n",
              " 'GROUP',\n",
              " 'OP',\n",
              " 'INDUSTRIA',\n",
              " 'PRODUCTS',\n",
              " 'TECHNOLOGY',\n",
              " 'P',\n",
              " 'B',\n",
              " 'R',\n",
              " 'PO',\n",
              " 'CORP',\n",
              " 'COM',\n",
              " 'LATIN',\n",
              " 'ELECTRONICS',\n",
              " 'EXPORT',\n",
              " 'IMPORT',\n",
              " 'SERVICES',\n",
              " 'SPA',\n",
              " 'M',\n",
              " 'CHEMICAL',\n",
              " 'INT',\n",
              " 'SYSTEMS',\n",
              " 'IMP',\n",
              " 'COMERCIO',\n",
              " 'AB',\n",
              " 'SRL',\n",
              " 'NINGBO',\n",
              " 'AUTOMOVEIS',\n",
              " 'OC',\n",
              " 'AMERICAS',\n",
              " 'USA',\n",
              " 'LP',\n",
              " 'TRADE',\n",
              " 'PEUGEOT',\n",
              " 'EXP',\n",
              " 'CHILE',\n",
              " 'INDUSTRIES',\n",
              " 'CATERPILLAR',\n",
              " 'CITROEN',\n",
              " 'VOLKSWAGEN',\n",
              " 'KG',\n",
              " 'GLOBAL',\n",
              " 'REF',\n",
              " 'SIEMENS',\n",
              " 'CV',\n",
              " 'ZHEJIANG',\n",
              " 'PNEUS',\n",
              " 'BV',\n",
              " 'SERVICE',\n",
              " 'TECHNOLOGIES',\n",
              " 'INDUSTRY',\n",
              " 'MACHINERY',\n",
              " 'EQUIPMENT',\n",
              " 'DOW',\n",
              " 'ENERGY',\n",
              " 'O',\n",
              " 'SHANGHAI',\n",
              " 'THE',\n",
              " 'SCANIA',\n",
              " 'ABB',\n",
              " 'DEERE',\n",
              " 'PARTS',\n",
              " 'URUGUAY',\n",
              " 'DELL',\n",
              " 'SOLUTIONS',\n",
              " 'EUROPE',\n",
              " 'CHEMICALS',\n",
              " 'MEXICO',\n",
              " 'AUTOMOBILES',\n",
              " 'F',\n",
              " 'PAK',\n",
              " 'FCA',\n",
              " 'TETRA',\n",
              " 'SAMSUNG',\n",
              " 'MEDICAL',\n",
              " 'N',\n",
              " 'MANUFACTURING',\n",
              " 'PTE',\n",
              " 'SUPPLY',\n",
              " 'ELECTRIC',\n",
              " 'IM',\n",
              " 'HK',\n",
              " 'FIAT',\n",
              " 'SHENZHEN',\n",
              " 'TECH',\n",
              " 'CHRYSLER',\n",
              " 'POWER',\n",
              " 'BRASKEM',\n",
              " 'LOGISTICS',\n",
              " 'HALLIBURTON',\n",
              " 'MOTOR',\n",
              " 'PIRELLI',\n",
              " 'DIAGNOSTICS',\n",
              " 'D',\n",
              " 'IBM',\n",
              " 'AUTOMOTIVE',\n",
              " 'AUTO',\n",
              " 'Y',\n",
              " 'PROD',\n",
              " 'PROCTER',\n",
              " 'GAMBLE',\n",
              " 'JOHN',\n",
              " 'PVT',\n",
              " 'ADIDAS',\n",
              " 'H',\n",
              " 'HANGZHOU',\n",
              " 'SAS',\n",
              " 'PHARMA',\n",
              " 'SALES',\n",
              " 'CNH',\n",
              " 'PC',\n",
              " 'LENOVO',\n",
              " 'OPERATIONS',\n",
              " '3M',\n",
              " 'LA',\n",
              " 'ROCHE',\n",
              " 'LT',\n",
              " 'OI',\n",
              " 'TECHNICAL',\n",
              " 'SOUTH',\n",
              " 'TEXTILE',\n",
              " 'SHEARVAN',\n",
              " 'SHAOXING',\n",
              " 'RENAULT',\n",
              " 'OF',\n",
              " 'QUIMICA',\n",
              " 'CORPORATE',\n",
              " 'U',\n",
              " 'G',\n",
              " 'CI',\n",
              " 'LIMITADA',\n",
              " 'METAL',\n",
              " 'ID',\n",
              " 'WORLDWIDE',\n",
              " 'SARL',\n",
              " 'TP',\n",
              " 'PARTNERS',\n",
              " 'ELECTRONIC',\n",
              " 'JIANGSU',\n",
              " 'BAKER',\n",
              " 'NEW',\n",
              " 'SISTEMAS',\n",
              " 'OILFIELD',\n",
              " 'PETROLEUM',\n",
              " 'CHINA',\n",
              " 'JOHNSON',\n",
              " 'MATERIALS',\n",
              " 'EQUIP',\n",
              " 'XIAMEN',\n",
              " 'AGRO',\n",
              " 'NV',\n",
              " 'GUANGZHOU',\n",
              " 'ALX',\n",
              " 'AUTOMATION',\n",
              " 'COMERCIAL',\n",
              " 'SPORTS',\n",
              " 'HUGHES',\n",
              " 'US',\n",
              " 'IFF',\n",
              " 'J',\n",
              " 'IMPO',\n",
              " 'BUE',\n",
              " 'VE',\n",
              " 'BOSCH',\n",
              " 'ASIA',\n",
              " 'SHANDONG',\n",
              " 'BASF',\n",
              " 'FINANCE',\n",
              " 'HIZER',\n",
              " 'ELECTRICAL']"
            ]
          },
          "metadata": {
            "tags": []
          },
          "execution_count": 87
        }
      ]
    },
    {
      "cell_type": "code",
      "metadata": {
        "id": "UNXZOgCel_Bx"
      },
      "source": [
        "common_words.remove(\"ABB\")"
      ],
      "execution_count": null,
      "outputs": []
    },
    {
      "cell_type": "code",
      "metadata": {
        "colab": {
          "base_uri": "https://localhost:8080/"
        },
        "id": "NI5kO6ubd0nN",
        "outputId": "31b3f80b-0394-4203-8f04-ed9d0db227d7"
      },
      "source": [
        "common_words.index(\"XIAMEN\")"
      ],
      "execution_count": null,
      "outputs": [
        {
          "output_type": "execute_result",
          "data": {
            "text/plain": [
              "173"
            ]
          },
          "metadata": {
            "tags": []
          },
          "execution_count": 90
        }
      ]
    },
    {
      "cell_type": "code",
      "metadata": {
        "id": "O0M7l0Ki9atW"
      },
      "source": [
        "def ngrams(string, n=3): \n",
        "    commons = []\n",
        "    text = []\n",
        "    for word in string.split(\" \"):\n",
        "      if word not in common_words:\n",
        "        text.append(word)\n",
        "      else: \n",
        "        commons.append(word)\n",
        "    text = \" \".join(text)\n",
        "    ngrams = zip(*[text[i:] for i in range(n)])\n",
        "    lista = np.unique([''.join(ngram) for ngram in ngrams]+commons).tolist()\n",
        "    return lista\n",
        "\n",
        "def ngrams2(text, n=3): \n",
        "    ngrams = zip(*[text[i:] for i in range(n)])\n",
        "    return [''.join(ngram) for ngram in ngrams]  "
      ],
      "execution_count": null,
      "outputs": []
    },
    {
      "cell_type": "markdown",
      "metadata": {
        "id": "38bpybV4K4wW"
      },
      "source": [
        "## `TfidfVectorizer`"
      ]
    },
    {
      "cell_type": "code",
      "metadata": {
        "id": "9Yi3U507CruX"
      },
      "source": [
        "second = second_cleaning.second_cleaning.unique()"
      ],
      "execution_count": null,
      "outputs": []
    },
    {
      "cell_type": "code",
      "metadata": {
        "id": "lWfeZmV6MqSD"
      },
      "source": [
        "from sklearn.feature_extraction.text import TfidfVectorizer\n",
        "\n",
        "\n",
        "vectorizer = TfidfVectorizer(min_df=3, analyzer=ngrams2) \n",
        "tf_idf_second_cleaning = vectorizer.fit_transform(second)\n"
      ],
      "execution_count": null,
      "outputs": []
    },
    {
      "cell_type": "code",
      "metadata": {
        "colab": {
          "base_uri": "https://localhost:8080/"
        },
        "id": "_OqVimxlOxgK",
        "outputId": "3c5b478d-d5f0-420a-eb8f-b34d329f2fac"
      },
      "source": [
        "tf_idf_second_cleaning.shape"
      ],
      "execution_count": null,
      "outputs": [
        {
          "output_type": "execute_result",
          "data": {
            "text/plain": [
              "(493028, 14207)"
            ]
          },
          "metadata": {
            "tags": []
          },
          "execution_count": 132
        }
      ]
    },
    {
      "cell_type": "markdown",
      "metadata": {
        "id": "YVYouCDzK_4O"
      },
      "source": [
        "## `awesome_cossim_topn`"
      ]
    },
    {
      "cell_type": "code",
      "metadata": {
        "colab": {
          "base_uri": "https://localhost:8080/"
        },
        "id": "6Cl2GS9iO5Wp",
        "outputId": "06c3bfdc-6c7f-4713-c6cc-ad03cf8b6000"
      },
      "source": [
        "from scipy.sparse import csr_matrix\n",
        "from sparse_dot_topn import awesome_cossim_topn\n",
        "\n",
        "import time\n",
        "t1 = time.time()\n",
        "matches_ngrams = awesome_cossim_topn(tf_idf_second_cleaning, tf_idf_second_cleaning.transpose(), 200, 0.8)\n",
        "t = time.time()-t1\n",
        "print('This program remains {} seconds with ngrams'.format(t))"
      ],
      "execution_count": null,
      "outputs": [
        {
          "output_type": "stream",
          "text": [
            "This program remains 2562.7749745845795 seconds with ngrams\n"
          ],
          "name": "stdout"
        }
      ]
    },
    {
      "cell_type": "code",
      "metadata": {
        "id": "vDscXa9TPUg_"
      },
      "source": [
        "from scipy import sparse\n",
        "\n",
        "\"\"\"\n",
        "Guardo macheos en un archivo npz porque tarda mucho en correr \n",
        "el producto de matrices, porque son muy grandes. Dado que el resultado es determinístico \n",
        "no es necesario volver a correrlo nuevamente a menos que cambie \n",
        "algún parámetro de la limpieza, del vecotrizador o de la función awesome_cossim_topn\n",
        "\"\"\"\n",
        "\n",
        "ngrams_filename = '/content/drive/MyDrive/base importadores/outputs/TF-IDF_matches_save/ngrams_matces_csr_saving18_06_2021B.npz'\n",
        "sparse.save_npz(ngrams_filename, matches_ngrams)\n",
        "\n",
        "# Para cargar de nuevo la matriz descomentar la siguiente linea. \n",
        "#matches_ngrams = sparse.load_npz(ngrams_filename)"
      ],
      "execution_count": null,
      "outputs": []
    },
    {
      "cell_type": "markdown",
      "metadata": {
        "id": "a2tFp9-1KOB-"
      },
      "source": [
        "## Ejemplos de Similares"
      ]
    },
    {
      "cell_type": "code",
      "metadata": {
        "id": "m5wOGRCwDdld"
      },
      "source": [
        "second = list(second)"
      ],
      "execution_count": null,
      "outputs": []
    },
    {
      "cell_type": "code",
      "metadata": {
        "colab": {
          "base_uri": "https://localhost:8080/"
        },
        "id": "hDYBsYMxnnHj",
        "outputId": "1c4c5594-31c1-4250-84e8-d069d255e379"
      },
      "source": [
        "second.index(\"HUAWEI\")"
      ],
      "execution_count": null,
      "outputs": [
        {
          "output_type": "execute_result",
          "data": {
            "text/plain": [
              "1097"
            ]
          },
          "metadata": {
            "tags": []
          },
          "execution_count": 137
        }
      ]
    },
    {
      "cell_type": "code",
      "metadata": {
        "colab": {
          "base_uri": "https://localhost:8080/"
        },
        "id": "ce17z1ORTFzi",
        "outputId": "1b9683c0-9e3f-4c13-b131-f3ff2217c2ee"
      },
      "source": [
        "print(matches_ngrams[second.index(\"HUAWEI\"),:])"
      ],
      "execution_count": null,
      "outputs": [
        {
          "output_type": "stream",
          "text": [
            "  (0, 1097)\t1.0000000000000002\n",
            "  (0, 76678)\t0.9055067503799783\n",
            "  (0, 436089)\t0.8769072592601155\n",
            "  (0, 60671)\t0.8695081441751464\n",
            "  (0, 59928)\t0.860370567832566\n",
            "  (0, 68182)\t0.8536831019288952\n",
            "  (0, 1163)\t0.8526640428030399\n",
            "  (0, 105352)\t0.8523746846298268\n",
            "  (0, 9013)\t0.8510895504984742\n",
            "  (0, 33137)\t0.8481556866794108\n",
            "  (0, 32231)\t0.8478290088338228\n",
            "  (0, 95333)\t0.8456744597260242\n",
            "  (0, 15616)\t0.8454894280122578\n",
            "  (0, 64137)\t0.8444064096507742\n",
            "  (0, 98308)\t0.8436977781354564\n",
            "  (0, 42912)\t0.8420150794990177\n",
            "  (0, 22586)\t0.8342327156959349\n",
            "  (0, 346208)\t0.8316311960860362\n",
            "  (0, 38083)\t0.8313517591123646\n",
            "  (0, 119271)\t0.8308781888371056\n",
            "  (0, 9018)\t0.8275081666152271\n",
            "  (0, 55686)\t0.8269960462934765\n",
            "  (0, 1081)\t0.8266476330689683\n",
            "  (0, 1082)\t0.8127141700966009\n"
          ],
          "name": "stdout"
        }
      ]
    },
    {
      "cell_type": "code",
      "metadata": {
        "colab": {
          "base_uri": "https://localhost:8080/"
        },
        "id": "8rzp1lVaSJha",
        "outputId": "0405a416-c992-4b1e-fbef-2f341ed0f31a"
      },
      "source": [
        "for i in matches_ngrams[second.index(\"HUAWEI\"),:].indices: \n",
        "  print(second[i])"
      ],
      "execution_count": null,
      "outputs": [
        {
          "output_type": "stream",
          "text": [
            "HUAWEI\n",
            "HUAWEIR\n",
            "HUAWEIC\n",
            "HUAWEI S\n",
            "HUAWEI C\n",
            "HUAWEI T\n",
            "HUAWEI E\n",
            "HUAWEI A\n",
            "HUAWEI M\n",
            "HUAWEI L\n",
            "HUAWEI P\n",
            "HUAWEI G\n",
            "HUAWEI F\n",
            "HUAWEI H\n",
            "HUAWEI D\n",
            "HUAWEI B\n",
            "HUAWEI R\n",
            "HUAWEI INT\n",
            "HUAWEI J\n",
            "HUAWEI V\n",
            "HUAWEI N\n",
            "HUAWEI K\n",
            "HUAWEI Y\n",
            "HUAWEI U\n"
          ],
          "name": "stdout"
        }
      ]
    },
    {
      "cell_type": "code",
      "metadata": {
        "colab": {
          "base_uri": "https://localhost:8080/"
        },
        "id": "sn-bk8XaTabP",
        "outputId": "213874a6-f141-426c-abb1-ef369b15799b"
      },
      "source": [
        "print(\"YA CORRIO TODOOOO\")"
      ],
      "execution_count": null,
      "outputs": [
        {
          "output_type": "stream",
          "text": [
            "YA CORRIO TODOOOO\n"
          ],
          "name": "stdout"
        }
      ]
    },
    {
      "cell_type": "markdown",
      "metadata": {
        "id": "ydvmQzq6KRcN"
      },
      "source": [
        "## Obtengo similares"
      ]
    },
    {
      "cell_type": "code",
      "metadata": {
        "colab": {
          "base_uri": "https://localhost:8080/"
        },
        "id": "0m_SjnoFKKop",
        "outputId": "655a9e81-dbe5-441d-8fe0-8ddf80f29c4b"
      },
      "source": [
        "from tqdm import tqdm\n",
        "\n",
        "massive_dict = {}\n",
        "for key in tqdm(range(matches_ngrams.shape[0])):\n",
        "  massive_dict[key] = matches_ngrams[key,:].indices\n",
        "\n",
        "ya_vistos = {}\n",
        "grupos = []\n",
        "for i in tqdm(range(matches_ngrams.shape[0])): \n",
        "  if i not in ya_vistos:\n",
        "    ya_vistos[i]=1\n",
        "    unicos = massive_dict[i].tolist()\n",
        "    if len(unicos)>1:\n",
        "      indices = massive_dict[i][1:]\n",
        "      for ind in indices:\n",
        "        if ind not in ya_vistos:\n",
        "          ya_vistos[ind]=1\n",
        "          unicos = unicos + massive_dict[ind].tolist()\n",
        "      unicos = list(set(unicos))\n",
        "      grupos.append(unicos)\n",
        "    else: \n",
        "      ya_vistos[i]=1\n",
        "      grupos.append(unicos)"
      ],
      "execution_count": null,
      "outputs": [
        {
          "output_type": "stream",
          "text": [
            "100%|██████████| 493028/493028 [00:55<00:00, 8904.59it/s]\n",
            "100%|██████████| 493028/493028 [00:02<00:00, 168223.30it/s]\n"
          ],
          "name": "stderr"
        }
      ]
    },
    {
      "cell_type": "code",
      "metadata": {
        "colab": {
          "base_uri": "https://localhost:8080/"
        },
        "id": "fN1RJqR-MRQe",
        "outputId": "ae25b83e-1252-4603-b2d5-1b1e42eb9426"
      },
      "source": [
        "third_cleaning_tfidf = pd.DataFrame(second, columns = ['unicos_second_cleaning'])\n",
        "\n",
        "from tqdm import tqdm\n",
        "import functools\n",
        "\n",
        "third_cleaning_tfidf['tfidf_cleaning'] = \"no name\"\n",
        "for group in tqdm(grupos): \n",
        "  names = third_cleaning_tfidf.iloc[np.array(group, dtype=\"int64\")]['unicos_second_cleaning'].to_list()\n",
        "  if len(names)>1:\n",
        "    group_name = functools.reduce(lambda a,b: b if len(a.split(\" \"))>len(b.split(\" \")) else a, names).lstrip().rstrip()\n",
        "  elif names == []:\n",
        "    pass\n",
        "  else:\n",
        "    group_name = names[0].lstrip().rstrip() \n",
        "  third_cleaning_tfidf.iloc[np.array(group, dtype=\"int64\"),1] = group_name"
      ],
      "execution_count": null,
      "outputs": [
        {
          "output_type": "stream",
          "text": [
            "100%|██████████| 278651/278651 [02:01<00:00, 2292.06it/s]\n"
          ],
          "name": "stderr"
        }
      ]
    },
    {
      "cell_type": "code",
      "metadata": {
        "id": "8milI0scbddq",
        "colab": {
          "base_uri": "https://localhost:8080/",
          "height": 422
        },
        "outputId": "6c487048-ee18-4c1b-bc9d-5d0174d20e12"
      },
      "source": [
        "third_cleaning_tfidf"
      ],
      "execution_count": null,
      "outputs": [
        {
          "output_type": "execute_result",
          "data": {
            "text/html": [
              "<div>\n",
              "<style scoped>\n",
              "    .dataframe tbody tr th:only-of-type {\n",
              "        vertical-align: middle;\n",
              "    }\n",
              "\n",
              "    .dataframe tbody tr th {\n",
              "        vertical-align: top;\n",
              "    }\n",
              "\n",
              "    .dataframe thead th {\n",
              "        text-align: right;\n",
              "    }\n",
              "</style>\n",
              "<table border=\"1\" class=\"dataframe\">\n",
              "  <thead>\n",
              "    <tr style=\"text-align: right;\">\n",
              "      <th></th>\n",
              "      <th>unicos_second_cleaning</th>\n",
              "      <th>tfidf_cleaning</th>\n",
              "    </tr>\n",
              "  </thead>\n",
              "  <tbody>\n",
              "    <tr>\n",
              "      <th>0</th>\n",
              "      <td>TAKMAY INDUSTRIAL COMPANY LIMITED</td>\n",
              "      <td>TAKMAY INDUSTRIAL COMPANY</td>\n",
              "    </tr>\n",
              "    <tr>\n",
              "      <th>1</th>\n",
              "      <td>TEAMBO INDUSTRY LIMITED</td>\n",
              "      <td>TEAMBO INDUSTRY LIMITED</td>\n",
              "    </tr>\n",
              "    <tr>\n",
              "      <th>2</th>\n",
              "      <td>SMARTMAX ENTERPRISES LIMITED</td>\n",
              "      <td>SMARMAX ENTERPRISES LIMITED</td>\n",
              "    </tr>\n",
              "    <tr>\n",
              "      <th>3</th>\n",
              "      <td>MASCHIENENBAU HALDENWANG HMBH&amp;CO KG ABA</td>\n",
              "      <td>MASCHIENENBAU HALDENWANG HMBH&amp;CO KG ABA</td>\n",
              "    </tr>\n",
              "    <tr>\n",
              "      <th>4</th>\n",
              "      <td>LONGINOTTI GROUP S R L</td>\n",
              "      <td>LONGINOTTI GROUP S R L</td>\n",
              "    </tr>\n",
              "    <tr>\n",
              "      <th>...</th>\n",
              "      <td>...</td>\n",
              "      <td>...</td>\n",
              "    </tr>\n",
              "    <tr>\n",
              "      <th>493023</th>\n",
              "      <td>WHEIHAI ADOLFO MACHINERY I&amp;E CO LTD</td>\n",
              "      <td>WEIHAI ADOLFO MACHINERY I</td>\n",
              "    </tr>\n",
              "    <tr>\n",
              "      <th>493024</th>\n",
              "      <td>GUANGZHOU MAGI WAP CULTURE ARTICLES CO LTD</td>\n",
              "      <td>GUANGZHOU MAGI WAP CULTURE ARTICLES CO LTD</td>\n",
              "    </tr>\n",
              "    <tr>\n",
              "      <th>493025</th>\n",
              "      <td>GREAT LUCK TRADING LIMITED</td>\n",
              "      <td>GREAT LUCK TRADING LIMITED</td>\n",
              "    </tr>\n",
              "    <tr>\n",
              "      <th>493026</th>\n",
              "      <td>LAMINATE PACKAGING COLOMBIA SAS</td>\n",
              "      <td>LAMINATE PACKAGING COLOMBIA SAS</td>\n",
              "    </tr>\n",
              "    <tr>\n",
              "      <th>493027</th>\n",
              "      <td>RENOBAT ENERGY SOLUTIONS</td>\n",
              "      <td>RENOBAT ENERGY SOLUTIONS</td>\n",
              "    </tr>\n",
              "  </tbody>\n",
              "</table>\n",
              "<p>493028 rows × 2 columns</p>\n",
              "</div>"
            ],
            "text/plain": [
              "                            unicos_second_cleaning                              tfidf_cleaning\n",
              "0                TAKMAY INDUSTRIAL COMPANY LIMITED                   TAKMAY INDUSTRIAL COMPANY\n",
              "1                          TEAMBO INDUSTRY LIMITED                     TEAMBO INDUSTRY LIMITED\n",
              "2                     SMARTMAX ENTERPRISES LIMITED                 SMARMAX ENTERPRISES LIMITED\n",
              "3          MASCHIENENBAU HALDENWANG HMBH&CO KG ABA     MASCHIENENBAU HALDENWANG HMBH&CO KG ABA\n",
              "4                           LONGINOTTI GROUP S R L                      LONGINOTTI GROUP S R L\n",
              "...                                            ...                                         ...\n",
              "493023         WHEIHAI ADOLFO MACHINERY I&E CO LTD                   WEIHAI ADOLFO MACHINERY I\n",
              "493024  GUANGZHOU MAGI WAP CULTURE ARTICLES CO LTD  GUANGZHOU MAGI WAP CULTURE ARTICLES CO LTD\n",
              "493025                  GREAT LUCK TRADING LIMITED                  GREAT LUCK TRADING LIMITED\n",
              "493026             LAMINATE PACKAGING COLOMBIA SAS             LAMINATE PACKAGING COLOMBIA SAS\n",
              "493027                    RENOBAT ENERGY SOLUTIONS                    RENOBAT ENERGY SOLUTIONS\n",
              "\n",
              "[493028 rows x 2 columns]"
            ]
          },
          "metadata": {
            "tags": []
          },
          "execution_count": 165
        }
      ]
    },
    {
      "cell_type": "code",
      "metadata": {
        "id": "t2PIrxs3P4tU"
      },
      "source": [
        "third_cleaning_tfidf.to_csv(\"/content/drive/MyDrive/base importadores/outputs/tfidf_cleaning/tfidf_cleaning18_06_2021B.csv\", index=False)"
      ],
      "execution_count": null,
      "outputs": []
    }
  ]
}