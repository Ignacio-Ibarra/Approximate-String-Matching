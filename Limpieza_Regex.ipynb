{
  "nbformat": 4,
  "nbformat_minor": 0,
  "metadata": {
    "colab": {
      "name": "Limpieza Regex.ipynb",
      "provenance": [],
      "collapsed_sections": [
        "NYHxiG8MuPYV"
      ],
      "authorship_tag": "ABX9TyN8lkqRp6EKvMCb3p+QeOla",
      "include_colab_link": true
    },
    "kernelspec": {
      "display_name": "Python 3",
      "name": "python3"
    },
    "language_info": {
      "name": "python"
    }
  },
  "cells": [
    {
      "cell_type": "markdown",
      "metadata": {
        "id": "view-in-github",
        "colab_type": "text"
      },
      "source": [
        "<a href=\"https://colab.research.google.com/github/Ignacio-Ibarra/Approximate-String-Matching/blob/main/Limpieza_Regex.ipynb\" target=\"_parent\"><img src=\"https://colab.research.google.com/assets/colab-badge.svg\" alt=\"Open In Colab\"/></a>"
      ]
    },
    {
      "cell_type": "markdown",
      "metadata": {
        "id": "J1kT-RqFOatd"
      },
      "source": [
        "# Limpieza Regex"
      ]
    },
    {
      "cell_type": "markdown",
      "metadata": {
        "id": "rIrRihgk-VOB"
      },
      "source": [
        "## Paquetes a utilizar"
      ]
    },
    {
      "cell_type": "code",
      "metadata": {
        "colab": {
          "base_uri": "https://localhost:8080/"
        },
        "id": "0H6aj0lXXRwa",
        "outputId": "8f4dfab8-34b4-400c-d799-9477346161b5"
      },
      "source": [
        "#Paquetes Básicos\n",
        "import pandas as pd\n",
        "import numpy as np\n",
        "import random\n",
        "import os\n",
        "import time\n",
        "import matplotlib.pyplot as plt\n",
        "from functools import reduce\n",
        "\n",
        "\n",
        "#NLP \n",
        "import nltk\n",
        "import re\n",
        "import string\n",
        "import unicodedata\n",
        "from sklearn.feature_extraction.text import TfidfVectorizer\n",
        "!pip install sparse_dot_topn\n",
        "from scipy.sparse import csr_matrix\n",
        "import sparse_dot_topn.sparse_dot_topn as ct\n",
        " \n",
        "#Montando Drive en la Session de Google Colab\n",
        "from google.colab import drive \n",
        "drive.mount(\"/content/drive\")\n",
        " \n",
        "#Displaying options\n",
        "pd.set_option(\"max_colwidth\", 60)"
      ],
      "execution_count": 1,
      "outputs": [
        {
          "output_type": "stream",
          "text": [
            "Collecting sparse_dot_topn\n",
            "  Downloading https://files.pythonhosted.org/packages/97/3f/cfe9416e28252689e6864e9d9a4a25b61fce8ea1d503fb021bb151213940/sparse_dot_topn-0.3.1.tar.gz\n",
            "  Installing build dependencies ... \u001b[?25l\u001b[?25hdone\n",
            "  Getting requirements to build wheel ... \u001b[?25l\u001b[?25hdone\n",
            "  Installing backend dependencies ... \u001b[?25l\u001b[?25hdone\n",
            "    Preparing wheel metadata ... \u001b[?25l\u001b[?25hdone\n",
            "Requirement already satisfied: setuptools>=42 in /usr/local/lib/python3.7/dist-packages (from sparse_dot_topn) (57.0.0)\n",
            "Requirement already satisfied: cython>=0.29.15 in /usr/local/lib/python3.7/dist-packages (from sparse_dot_topn) (0.29.23)\n",
            "Requirement already satisfied: scipy>=1.2.3 in /usr/local/lib/python3.7/dist-packages (from sparse_dot_topn) (1.4.1)\n",
            "Requirement already satisfied: numpy>=1.16.6 in /usr/local/lib/python3.7/dist-packages (from sparse_dot_topn) (1.19.5)\n",
            "Building wheels for collected packages: sparse-dot-topn\n",
            "  Building wheel for sparse-dot-topn (PEP 517) ... \u001b[?25l\u001b[?25hdone\n",
            "  Created wheel for sparse-dot-topn: filename=sparse_dot_topn-0.3.1-cp37-cp37m-linux_x86_64.whl size=1576536 sha256=a3b213ac7fb3c1eb494ed847d6683351f2fa54bcf24a73b4088934fb9115a589\n",
            "  Stored in directory: /root/.cache/pip/wheels/62/43/9b/73485cefb3a333e1ec4915cf4db18e964efb597288aa7a45b1\n",
            "Successfully built sparse-dot-topn\n",
            "Installing collected packages: sparse-dot-topn\n",
            "Successfully installed sparse-dot-topn-0.3.1\n",
            "Mounted at /content/drive\n"
          ],
          "name": "stdout"
        }
      ]
    },
    {
      "cell_type": "markdown",
      "metadata": {
        "id": "Uusg7fr4ox97"
      },
      "source": [
        "## Funcion para leer archivos particionados"
      ]
    },
    {
      "cell_type": "code",
      "metadata": {
        "id": "bCf0RjPto5Fi"
      },
      "source": [
        "import os\n",
        "from os import listdir\n",
        "\n",
        "def find_csv_filenames(path_to_dir, suffix=\".csv\" ):\n",
        "    filenames = listdir(path_to_dir)\n",
        "    return [ filename for filename in filenames if filename.endswith( suffix ) ]\n",
        "\n",
        "def spark_csv_to_pandas_df(spark_csv_folder, col_names):\n",
        "  files_list = find_csv_filenames(spark_csv_folder)\n",
        "  df = pd.DataFrame()\n",
        "  for f in files_list:\n",
        "    path = spark_csv_folder+\"/\"+f\n",
        "    temp = pd.read_csv(path, names=col_names)\n",
        "    df = df.append(temp, ignore_index=True)\n",
        "  return df"
      ],
      "execution_count": 2,
      "outputs": []
    },
    {
      "cell_type": "markdown",
      "metadata": {
        "id": "eO-1ntkMXRwi"
      },
      "source": [
        "## Funciones de Limpieza"
      ]
    },
    {
      "cell_type": "markdown",
      "metadata": {
        "id": "-1UpAzgcIgnA"
      },
      "source": [
        "**Lista de Tipos de Entidades** \n",
        "\n",
        "Cargamos la base desde [ _Global Legal Entity Identifier_ ](https://www.gleif.org/en/about-lei/introducing-the-legal-entity-identifier-lei) para poder obtener la lista de los tipos de empresa (e.g. \"SA\", \"LLC\", \"GMBH\", etc) y poder borrarlas de los nombres de empresas"
      ]
    },
    {
      "cell_type": "code",
      "metadata": {
        "id": "NXP1LdThb0nv"
      },
      "source": [
        "glei = pd.read_csv('https://www.gleif.org/content/2-about-lei/7-code-lists/2-iso-20275-entity-legal-forms-code-list/2020-11-19_elf-code-list-v1.3.csv')"
      ],
      "execution_count": 3,
      "outputs": []
    },
    {
      "cell_type": "code",
      "metadata": {
        "id": "rvCO09Vecmcm"
      },
      "source": [
        "ab = \";\".join(glei[glei['Abbreviations Local language'].isna()==False][\"Abbreviations Local language\"].drop_duplicates().values.tolist())"
      ],
      "execution_count": 4,
      "outputs": []
    },
    {
      "cell_type": "code",
      "metadata": {
        "id": "ZVTmPT0Jd4Qt"
      },
      "source": [
        "ab = np.unique(np.array(ab.split(\";\"))).tolist()"
      ],
      "execution_count": 5,
      "outputs": []
    },
    {
      "cell_type": "code",
      "metadata": {
        "id": "xL33HirtJL-q"
      },
      "source": [
        "abreviaturas = np.unique(np.array([x.upper() for x in ab])).tolist()+[\"REF\"]"
      ],
      "execution_count": 6,
      "outputs": []
    },
    {
      "cell_type": "code",
      "metadata": {
        "id": "HJ6qXQw-Nb39"
      },
      "source": [
        "#Diccionario con las siglas con puntuación, sin puntuación pero con espacios y sin puntuación ni espacios. \n",
        "\n",
        "indices = list(range(1,len(abreviaturas)+1))\n",
        " \n",
        "abrev_dict = dict()\n",
        "for k,v in zip(abreviaturas, indices): \n",
        "  abrev_dict[k]=v"
      ],
      "execution_count": 7,
      "outputs": []
    },
    {
      "cell_type": "code",
      "metadata": {
        "id": "SXfzvfOzF48O"
      },
      "source": [
        "#Definimos función para realizar limpieza\n",
        "\n",
        "def strip_accents(s):\n",
        "   return ''.join(c for c in unicodedata.normalize('NFD', s)\n",
        "                  if unicodedata.category(c) != 'Mn')\n",
        " \n",
        "def del_punct_wsp(text): \n",
        "    text = text.replace(\".\",\"\").replace('(',\" \").replace(\")\",\" \")\n",
        "    text = text.replace(\"\\M:\",\" \").replace(\"M:\",\" \")\n",
        "    text = re.sub(r'[!\"\\#\\$%\\'\\(\\)\\*\\+,\\-\\./:;<=>\\?@\\[\\\\\\]\\^_`\\{\\|\\}\\~]',' ',text) #borra punct y agrega espacio\n",
        "    text = re.sub(r'\\b\\d+\\b',' ', text)\n",
        "    text = strip_accents(text)\n",
        "    return text\n",
        "\n",
        "def acronyms(text): \n",
        "  if ''==text: \n",
        "    return ''\n",
        "  else:\n",
        "    text = text.upper()\n",
        "    text = text.split(' ')\n",
        "    while (text[-1] in abrev_dict) and (len(text)>2):\n",
        "      text = text[:-1]\n",
        "      acronyms(' '.join(text))\n",
        "    return ' '.join(text)\n",
        " \n",
        "def remove_digits(text): \n",
        "  splitted = text.split(' ') \n",
        "  cleanned = []\n",
        "  for word in splitted:\n",
        "    evaluation = [1 if i.isdigit() else 0 for i in word]\n",
        "    suma = reduce(lambda x,y: x+y, evaluation,0)\n",
        "    if suma==0:\n",
        "      cleanned.append(word)\n",
        "    elif suma<2:\n",
        "      cleanned.append(word)\n",
        "    else: \n",
        "      word = ''.join([i for i in word if not i.isdigit()])\n",
        "      cleanned.append(word)\n",
        "  return \" \".join(cleanned)\n",
        "\n",
        "def strip_spaces(text): \n",
        "  return text.upper().lstrip().rstrip()\n",
        "\n",
        "def remove_within_wsp(text):\n",
        "  return \" \".join(re.findall(r'\\b\\S+\\b', text))\n",
        "\n",
        "def sepecial_deletions(text, acronyms_list_or_dict): \n",
        "  return \" \".join([word for word in text.split(\" \") if word not in acronyms_list_or_dict])\n",
        "\n",
        "def pre_processing(text, \n",
        "                   punctuation=True, \n",
        "                   within_spaces=True, \n",
        "                   digits=True, \n",
        "                   strip_space=True, \n",
        "                   acronyms_at_end=True,\n",
        "                   special_deletions = None): \n",
        "    \n",
        "    \"\"\"1) Se borra puntuación, acentos y caracteres específicos como \"\\M:\"\n",
        "       2) Se borran dígitos\n",
        "       3) Se remueven espacios en blanco de principio y final\n",
        "       4) Se borran las siglas al final del texto\n",
        "       5) Se remueven espacios dentro del texto\"\"\"\n",
        "    if punctuation:\n",
        "      text = del_punct_wsp(text)\n",
        "    \n",
        "    if within_spaces:\n",
        "      text = remove_within_wsp(text)\n",
        "    \n",
        "    if digits:\n",
        "      text = remove_digits(text)\n",
        "    \n",
        "    if strip_space:\n",
        "      text = strip_spaces(text)\n",
        "\n",
        "    if special_deletions:\n",
        "      text = special_deletions(text, special_deletions) \n",
        "\n",
        "    if acronyms_at_end:\n",
        "      text = acronyms(text)\n",
        "    \n",
        "    if within_spaces:\n",
        "      text = remove_within_wsp(text)  \n",
        "\n",
        "    return text"
      ],
      "execution_count": 8,
      "outputs": []
    },
    {
      "cell_type": "markdown",
      "metadata": {
        "id": "tqTRJN4fm5NJ"
      },
      "source": [
        "## Ejecución Limpieza"
      ]
    },
    {
      "cell_type": "code",
      "metadata": {
        "colab": {
          "base_uri": "https://localhost:8080/"
        },
        "id": "dhcfloRao8m6",
        "outputId": "f8f05c43-44b6-49a6-c909-b7d491602331"
      },
      "source": [
        "t0 = time.time()\n",
        "\n",
        "unicos_sucios_path = '/content/drive/MyDrive/base importadores/outputs/unicos_sucios'\n",
        "unicos_sucios_pandas = spark_csv_to_pandas_df(unicos_sucios_path, ['unicos_sucios'])\n",
        "unicos_sucios_pandas = unicos_sucios_pandas.dropna().reset_index(drop=True)\n",
        "print(\"Cantidad de Nombres Unicos Sucios: \", len(unicos_sucios_pandas))\n",
        "\n",
        "#Generamos id en el dataset y borramos nulos\n",
        "unicos_sucios_pandas = unicos_sucios_pandas.reset_index()\n",
        "unicos_sucios_pandas.columns = ['id', 'unicos_sucios']\n",
        "\n",
        "#Hacemos limpieza\n",
        "unicos_sucios_pandas['first_cleaning'] = unicos_sucios_pandas['unicos_sucios'].apply(lambda x: pre_processing(x,  \n",
        "                                                                                                            acronyms_at_end=False, \n",
        "                                                                                                            special_deletions=False))\n",
        "t1 = time.time()\n",
        "print(\"tiempo en segundo que tardó la primer limpieza. \", t1-t0)\n",
        "\n",
        "unicos_sucios_pandas.loc[unicos_sucios_pandas.first_cleaning==\"\",'first_cleaning']=\"Se borró nombre en limpieza\"\n",
        "n_unicos_limpios = len(unicos_sucios_pandas[unicos_sucios_pandas.first_cleaning!=\"Se borró nombre en limpieza\"]['first_cleaning'].unique())\n",
        "print(\"Cantidad de Nombres Unicos Post Regex: \", n_unicos_limpios,\"\\n\")\n",
        "\n",
        "print(\"Guadando output en file: sucios_a_first_cleaning.csv\\n\")\n",
        "unicos_sucios_pandas.to_csv('/content/drive/MyDrive/base importadores/outputs/sucios_a_first_cleaning/sucios_a_first_cleaning17_06_21.csv', index=False)"
      ],
      "execution_count": 9,
      "outputs": [
        {
          "output_type": "stream",
          "text": [
            "Cantidad de Nombres Unicos Sucios:  2312301\n",
            "tiempo en segundo que tardó la primer limpieza.  229.70869302749634\n",
            "Cantidad de Nombres Unicos Post Regex:  520666 \n",
            "\n",
            "Guadando output en file: sucios_a_first_cleaning.csv\n",
            "\n"
          ],
          "name": "stdout"
        }
      ]
    }
  ]
}