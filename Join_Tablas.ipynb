{
 "cells": [
  {
   "cell_type": "markdown",
   "metadata": {},
   "source": [
    "# Usando `sqlite3` para armar base de datos"
   ]
  },
  {
   "cell_type": "markdown",
   "metadata": {},
   "source": [
    "Este notebook utiliza archivos alojados en disco local, ya que por su peso era imposible subirlo al Drive de una manera más o menos \"amigable\". "
   ]
  },
  {
   "cell_type": "code",
   "execution_count": 1,
   "metadata": {
    "colab": {
     "base_uri": "https://localhost:8080/"
    },
    "id": "xeEA0sDBoaa8",
    "outputId": "9945a3d7-2d0f-4349-c254-d11491bae3d4"
   },
   "outputs": [],
   "source": [
    "import os\n",
    "import pandas as pd\n",
    "import numpy as np\n",
    "import csv\n",
    "import sqlite3\n",
    "import time\n",
    "\n",
    "\n",
    "# Seteamos working directory\n",
    "wd_path = \"C:/Users/Asus/Desktop/CEP/Limpieza nombres de Empresas/base_aduana\"\n",
    "os.chdir(wd_path)"
   ]
  },
  {
   "cell_type": "code",
   "execution_count": 2,
   "metadata": {
    "id": "jx7_pOeKYgUk"
   },
   "outputs": [],
   "source": [
    "#Obtener headers de un csv\n",
    "def header(filepath):\n",
    "  with open(filepath, newline=None) as f:\n",
    "    csv_reader = csv.reader(f)\n",
    "    csv_headings = next(csv_reader)\n",
    "  return csv_headings"
   ]
  },
  {
   "cell_type": "code",
   "execution_count": 3,
   "metadata": {
    "id": "oyrkYg7SrMPR"
   },
   "outputs": [],
   "source": [
    "#Lee records desde csv\n",
    "def reader(abs_path): \n",
    "  with open(abs_path, newline='\\n') as csvfile:\n",
    "      reader = csv.reader(csvfile, quotechar='\"', delimiter=',')\n",
    "      lines = []\n",
    "      for line in reader: \n",
    "        lines.append(tuple(line))\n",
    "  return lines[1:]  "
   ]
  },
  {
   "cell_type": "code",
   "execution_count": 4,
   "metadata": {
    "id": "_k7CDJzVYmfs"
   },
   "outputs": [],
   "source": [
    "#Transforma python dtypes a sqlite dtypes\n",
    "def py_to_sqlite_type(dtype): \n",
    "    if 'int' in dtype:\n",
    "        return 'INTEGER'\n",
    "    if 'float' in dtype: \n",
    "        return 'REAL'\n",
    "    if 'O' in dtype or 'object' in dtype: \n",
    "        return 'TEXT'\n",
    "    if 'time' in dtype or 'date' in dtype:\n",
    "        return 'TEXT'"
   ]
  },
  {
   "cell_type": "code",
   "execution_count": 5,
   "metadata": {
    "id": "J3B85H8QYzCc"
   },
   "outputs": [],
   "source": [
    "#Escribe query de cracion de tabla si le provees una lista de tuplas con el schema.\n",
    "def table_creation_query(nombre_tabla, schema_tuples, primary_key): \n",
    "    \n",
    "    col_names, pydtypes = [k for k,v in schema_tuples],[v for k,v in schema_tuples]\n",
    "    \n",
    "    sqlite_types = [py_to_sqlite_type(x) for x in pydtypes]\n",
    "    \n",
    "    if primary_key == None: \n",
    "\n",
    "      sqlite_create_table_query = 'CREATE TABLE '+nombre_tabla+'('\n",
    "      for k,v in zip(col_names,sqlite_types):\n",
    "        sqlite_create_table_query += k+(' ')+v+','\n",
    "\n",
    "      sqlite_create_table_query = sqlite_create_table_query[:-1]+')'\n",
    "\n",
    "    elif len(primary_key) == 1: \n",
    "                     \n",
    "      sqlite_create_table_query = 'CREATE TABLE '+nombre_tabla+'('\n",
    "      for k,v in zip(col_names,sqlite_types):\n",
    "        if k==str(primary_key[0]):\n",
    "          sqlite_create_table_query += k+(' ')+v+' PRIMARY KEY,'\n",
    "        else: \n",
    "          sqlite_create_table_query += k+(' ')+v+','\n",
    "\n",
    "      sqlite_create_table_query = sqlite_create_table_query[:-1]+')'\n",
    "    \n",
    "    else:\n",
    "      primary_key = tuple(primary_key)\n",
    "        \n",
    "      sqlite_create_table_query = 'CREATE TABLE '+nombre_tabla+'('\n",
    "      for k,v in zip(col_names,sqlite_types):\n",
    "        sqlite_create_table_query += k+(' ')+v+','\n",
    "        \n",
    "      sqlite_create_table_query = sqlite_create_table_query+'PRIMARY KEY '+str(primary_key).replace(\"'\",\"\")+')'\n",
    "    \n",
    "    return sqlite_create_table_query"
   ]
  },
  {
   "cell_type": "code",
   "execution_count": 6,
   "metadata": {
    "id": "0kBkf23rsnqo"
   },
   "outputs": [],
   "source": [
    "def insert_records_from_file(filepath,nombre_base,nombre_tabla, nombres_columnas):\n",
    "    \n",
    "    sqlite_insert_query = 'INSERT INTO '+nombre_tabla+(' ')+'\\n'+str(tuple([x.lower() for x in nombres_columnas])).replace(\"'\",\"\")+'\\n VALUES '+str(tuple(len(nombres_columnas)*['?']))\n",
    "    sqlite_insert_query = sqlite_insert_query.replace(\"'\",\"\")\n",
    "    \n",
    "    t = time.time()\n",
    "    try:\n",
    "        sqliteConnection = sqlite3.connect(nombre_base)\n",
    "        sqliteConnection.text_factory = str \n",
    "        cursor = sqliteConnection.cursor()\n",
    "        print(\"Connected to SQLite\")\n",
    "\n",
    "        recordlist = reader(filepath)\n",
    "\n",
    "        cursor.executemany(sqlite_insert_query, recordlist)\n",
    "        sqliteConnection.commit()\n",
    "        \n",
    "        print(\"Total\", cursor.rowcount, \"Records inserted successfully into {} table\".format(nombre_tabla))\n",
    "        sqliteConnection.commit()\n",
    "        cursor.close()\n",
    "\n",
    "        print(\"\\n Time Taken: {} sec\".format(time.time()-t)) \n",
    "\n",
    "    except sqlite3.Error as error:\n",
    "        print(\"Failed to insert multiple records into sqlite table\", error)\n",
    "    finally:\n",
    "        if (sqliteConnection):\n",
    "            sqliteConnection.close()\n",
    "            print(\"The SQLite connection is closed\")"
   ]
  },
  {
   "cell_type": "code",
   "execution_count": 7,
   "metadata": {
    "id": "P3NtlBAEZayx"
   },
   "outputs": [],
   "source": [
    "#Crea una tabla si le provees un schema. \n",
    "def create_table(nombre_base, nombre_tabla, schema_tuples, primary_key): \n",
    "    \n",
    "    create_table_query = table_creation_query(nombre_tabla, schema_tuples, primary_key)\n",
    "\n",
    "    try:\n",
    "        sqliteConnection = sqlite3.connect(nombre_base)\n",
    "        \n",
    "        cursor = sqliteConnection.cursor()\n",
    "        print(\"Successfully Connected to SQLite\")\n",
    "        \n",
    "        cursor.execute(create_table_query)\n",
    "        sqliteConnection.commit()\n",
    "        print(\"SQLite {} table created\".format(nombre_tabla))\n",
    "\n",
    "        cursor.close()\n",
    "    except sqlite3.Error as error:\n",
    "        print(\"Error while creating a sqlite table\", error)\n",
    "    finally:\n",
    "        if (sqliteConnection):\n",
    "            sqliteConnection.close()\n",
    "            print(\"sqlite connection is closed\")"
   ]
  },
  {
   "cell_type": "code",
   "execution_count": 8,
   "metadata": {
    "id": "rPhBP4hRaAqA"
   },
   "outputs": [],
   "source": [
    "#Función para definir query de creacion dandole un dataframe de pandas. \n",
    "def define_query(nombre_base, nombre_tabla, pandas_df, primary_key): \n",
    "    \n",
    "    col_names = [x.lower() for x in pandas_df.dtypes.index]\n",
    "    \n",
    "    \n",
    "    sqlite_types = [py_to_sqlite_type(x) for x in [str(x) for x in pandas_df.infer_objects().dtypes.values]]\n",
    "    \n",
    "    if primary_key == None: \n",
    "\n",
    "      sqlite_create_table_query = 'CREATE TABLE '+nombre_tabla+'('\n",
    "      for k,v in zip(col_names,sqlite_types):\n",
    "        sqlite_create_table_query += k+(' ')+v+','\n",
    "\n",
    "      sqlite_create_table_query = sqlite_create_table_query[:-1]+')'\n",
    "\n",
    "    elif len(primary_key) == 1: \n",
    "                     \n",
    "      sqlite_create_table_query = 'CREATE TABLE '+nombre_tabla+'('\n",
    "      for k,v in zip(col_names,sqlite_types):\n",
    "        if k==str(primary_key[0]):\n",
    "          sqlite_create_table_query += k+(' ')+v+' PRIMARY KEY,'\n",
    "        else: \n",
    "          sqlite_create_table_query += k+(' ')+v+','\n",
    "\n",
    "      sqlite_create_table_query = sqlite_create_table_query[:-1]+')'\n",
    "    \n",
    "    else:\n",
    "      primary_key = tuple(primary_key)\n",
    "        \n",
    "      sqlite_create_table_query = 'CREATE TABLE '+nombre_tabla+'('\n",
    "      for k,v in zip(col_names,sqlite_types):\n",
    "        sqlite_create_table_query += k+(' ')+v+','\n",
    "        \n",
    "      sqlite_create_table_query = sqlite_create_table_query+'PRIMARY KEY '+str(primary_key).replace(\"'\",\"\")+')'\n",
    "    \n",
    "    return sqlite_create_table_query"
   ]
  },
  {
   "cell_type": "code",
   "execution_count": 9,
   "metadata": {
    "id": "gDgeBy-aqbnS"
   },
   "outputs": [],
   "source": [
    "#Crea tabla si le provees un dataframe de pandas\n",
    "def create_table_from_pandas_df(nombre_base, nombre_tabla, pandas_df, primary_key):\n",
    "    \n",
    "    create_table_query = define_query(nombre_base, nombre_tabla, pandas_df, primary_key)\n",
    "\n",
    "    try:\n",
    "        sqliteConnection = sqlite3.connect(nombre_base)\n",
    "        \n",
    "        cursor = sqliteConnection.cursor()\n",
    "        print(\"Successfully Connected to SQLite\")\n",
    "        \n",
    "        cursor.execute(create_table_query)\n",
    "        sqliteConnection.commit()\n",
    "        print(\"SQLite {} table created\".format(nombre_tabla))\n",
    "\n",
    "        cursor.close()\n",
    "\n",
    "    except sqlite3.Error as error:\n",
    "        print(\"Error while creating a sqlite table\", error)\n",
    "    finally:\n",
    "        if (sqliteConnection):\n",
    "            sqliteConnection.close()\n",
    "            print(\"sqlite connection is closed\")"
   ]
  },
  {
   "cell_type": "code",
   "execution_count": 10,
   "metadata": {
    "id": "jt07YaARaMWu"
   },
   "outputs": [],
   "source": [
    "#Función para insertar mcuhas filas.\n",
    "def insert_pandas_df_into_sqlite_table(nombre_base, nombre_tabla, pandas_df):\n",
    "    \n",
    "    sqlite_insert_query = 'INSERT INTO '+nombre_tabla+(' ')+'\\n'+str(tuple([x.lower() for x in pandas_df.columns])).replace(\"'\",\"\")+'\\n VALUES '+str(tuple(len(pandas_df.columns)*['?']))\n",
    "    sqlite_insert_query = sqlite_insert_query.replace(\"'\",\"\")\n",
    "    recordlist = [tuple(x) for x in pandas_df.values]\n",
    "    \n",
    "    try:\n",
    "        sqliteConnection = sqlite3.connect(nombre_base)\n",
    "        cursor = sqliteConnection.cursor()\n",
    "        print(\"Connected to SQLite\")\n",
    "                \n",
    "        sqliteConnection.commit()\n",
    "        \n",
    "             \n",
    "        cursor.executemany(sqlite_insert_query, recordlist)\n",
    "        sqliteConnection.commit()\n",
    "        \n",
    "        print(\"Total\", cursor.rowcount, \"Records inserted successfully into {} table\".format(nombre_tabla))\n",
    "        sqliteConnection.commit()\n",
    "        cursor.close()\n",
    "\n",
    "    except sqlite3.Error as error:\n",
    "        print(\"Failed to insert multiple records into sqlite table\", error)\n",
    "    finally:\n",
    "        if (sqliteConnection):\n",
    "            sqliteConnection.close()\n",
    "            print(\"The SQLite connection is closed\")\n",
    "\n",
    "#Con este codigo corremos un archivo sql que puede tener muchos scripts distintos\n",
    "\n",
    "def run_sql_file(nombre_base, path):\n",
    "\n",
    "    try:\n",
    "        sqliteConnection = sqlite3.connect(nombre_base)\n",
    "        cursor = sqliteConnection.cursor()\n",
    "        print(\"Successfully Connected to SQLite\")\n",
    "\n",
    "        with open(path, 'r') as sqlite_file:\n",
    "            sql_script = sqlite_file.read()\n",
    "\n",
    "        cursor.executescript(sql_script)\n",
    "        print(\"SQLite script executed successfully\")\n",
    "        cursor.close()\n",
    "\n",
    "    except sqlite3.Error as error:\n",
    "        print(\"Error while executing sqlite script\", error)\n",
    "    finally:\n",
    "        if (sqliteConnection):\n",
    "            sqliteConnection.close()\n",
    "            print(\"sqlite connection is closed\")\n",
    "\n",
    "def retrieve_query_data(nombre_base,query_path): \n",
    "    \n",
    "    try:\n",
    "        sqliteConnection = sqlite3.connect(nombre_base)\n",
    "        cursor = sqliteConnection.cursor()\n",
    "        print(\"Successfully Connected to SQLite\")\n",
    "\n",
    "        with open(query_path, 'r') as sqlite_file:\n",
    "          sql_script = sqlite_file.read()\n",
    "        print('***'*10)\n",
    "        print(\"Your query is:\\n{}\".format(sql_script))\n",
    "        print('***'*10)\n",
    "\n",
    "        cursor.execute(sql_script)\n",
    "        r = cursor.fetchall()\n",
    "        print(\"SQLite script executed successfully\")\n",
    "        \n",
    "        rows = []\n",
    "        for row in r:\n",
    "            rows.append(row)\n",
    "            \n",
    "    except sqlite3.Error as error:\n",
    "        print(\"Error while executing sqlite script\", error)\n",
    "    finally:\n",
    "        if (sqliteConnection):\n",
    "            sqliteConnection.close()\n",
    "            print(\"sqlite connection is closed\")\n",
    "    \n",
    "    return rows\n",
    "\n",
    "def retrieve_query_keys(nombre_base,query_path):\n",
    "    \n",
    "    try:\n",
    "        sqliteConnection = sqlite3.connect(nombre_base)\n",
    "        cursor = sqliteConnection.cursor()\n",
    "        print(\"Successfully Connected to SQLite\")\n",
    "\n",
    "        with open(query_path, 'r') as sqlite_file:\n",
    "          sql_script = sqlite_file.read()\n",
    "        print('***'*10)\n",
    "        print(\"Your query is:\\n{}\".format(sql_script))\n",
    "        print('***'*10)\n",
    "\n",
    "        cursor.execute(sql_script)\n",
    "        cols = [description[0] for description in cursor.description]\n",
    "        print(\"SQLite script executed successfully\")\n",
    "        \n",
    "        cursor.close()\n",
    "\n",
    "    except sqlite3.Error as error:\n",
    "        print(\"Error while executing sqlite script\", error)\n",
    "    finally:\n",
    "        if (sqliteConnection):\n",
    "            sqliteConnection.close()\n",
    "            print(\"sqlite connection is closed\")\n",
    "    \n",
    "    return cols\n",
    "\n",
    "def retrieve_query_pandas(nombre_base, query_path, limit): \n",
    "    df = pd.DataFrame(retrieve_query_data(nombre_base,query_path), columns = retrieve_query_keys(nombre_base,query_path))\n",
    "    print(\"The df shape is: \", df.shape)\n",
    "    if limit == 'all':\n",
    "      return df\n",
    "    else:\n",
    "      return df[:limit]"
   ]
  },
  {
   "cell_type": "code",
   "execution_count": 11,
   "metadata": {
    "id": "0ZXdR-Xyvc7u"
   },
   "outputs": [],
   "source": [
    "#Defino nombre Base\n",
    "nombre_base = 'base_importaciones19062021.db'"
   ]
  },
  {
   "cell_type": "code",
   "execution_count": 15,
   "metadata": {},
   "outputs": [
    {
     "name": "stdout",
     "output_type": "stream",
     "text": [
      "['', 'anio', 'cuit_impor', 'rsocial', 'prove_dest', 'sim_sptos', 'porg', 'origen', 'u_estad', 'uni_estad', 'cant_est', 'kg', 'fob', 'cif']\n",
      "['id', 'anio', 'cuit_impor', 'rsocial', 'prove_dest', 'sim_sptos', 'porg', 'origen', 'u_estad', 'uni_estad', 'cant_est', 'kg', 'fob', 'cif']\n"
     ]
    }
   ],
   "source": [
    "#Path, nombre, tabla, dtypes de BASE SUCIA\n",
    "filename_base_sucia = \"base_aduana.csv\"\n",
    "base_sucia = 'base_sucia'\n",
    "cols = header(filename_base_sucia)\n",
    "print(cols)\n",
    "cols[0] = \"id\"\n",
    "print(cols)"
   ]
  },
  {
   "cell_type": "code",
   "execution_count": 16,
   "metadata": {
    "colab": {
     "base_uri": "https://localhost:8080/"
    },
    "id": "tuLG8Z3OVwBG",
    "outputId": "8c4cf566-6556-49a3-a1f5-6630eaa96773"
   },
   "outputs": [
    {
     "name": "stdout",
     "output_type": "stream",
     "text": [
      "[('id', 'int'), ('anio', 'int'), ('cuit_impor', 'int'), ('rsocial', 'O'), ('prove_dest', 'O'), ('sim_sptos', 'O'), ('porg', 'int'), ('origen', 'O'), ('u_estad', 'int'), ('uni_estad', 'O'), ('cant_est', 'int'), ('kg', 'int'), ('fob', 'float'), ('cif', 'float')]\n",
      "Successfully Connected to SQLite\n",
      "SQLite base_sucia table created\n",
      "sqlite connection is closed\n",
      "Connected to SQLite\n",
      "Total 11474579 Records inserted successfully into base_sucia table\n",
      "\n",
      " Time Taken: 1027.365369796753 sec\n",
      "The SQLite connection is closed\n"
     ]
    }
   ],
   "source": [
    "#dtypes de BASE SUCIA\n",
    "dtypes = ['int','int','int','O','O','O','int','O','int','O','int','int','float','float']\n",
    "schema = [(c,d) for c,d in zip(cols,dtypes)]\n",
    "print(schema)\n",
    "\n",
    "#Creo Base si no existe y tabla BASE SUCIA si no existe. \n",
    "create_table(nombre_base,base_sucia,schema,None)\n",
    "\n",
    "#Inserto Records BASE SUCIA desde archivo. \n",
    "absolute_path = wd_path+'/'+filename_base_sucia\n",
    "insert_records_from_file(absolute_path,nombre_base,base_sucia,cols)"
   ]
  },
  {
   "cell_type": "code",
   "execution_count": 18,
   "metadata": {
    "colab": {
     "base_uri": "https://localhost:8080/"
    },
    "id": "yKxa5tBTbN2A",
    "outputId": "a39d65ac-0dac-426d-abd3-4bc2a15b5029"
   },
   "outputs": [
    {
     "name": "stdout",
     "output_type": "stream",
     "text": [
      "Successfully Connected to SQLite\n",
      "SQLite pandas_merge table created\n",
      "sqlite connection is closed\n",
      "Connected to SQLite\n",
      "Total 2303938 Records inserted successfully into pandas_merge table\n",
      "The SQLite connection is closed\n"
     ]
    }
   ],
   "source": [
    "#Genero la tabla de pandas merge e insterto records\n",
    "\n",
    "filename_pandas_merge = \"pandas_merge18_06_2021.csv\"\n",
    "pandas_merge_df = pd.read_csv(filename_pandas_merge)\n",
    "pandas_merge = \"pandas_merge\"\n",
    "create_table_from_pandas_df(nombre_base,pandas_merge,pandas_merge_df,None)\n",
    "insert_pandas_df_into_sqlite_table(nombre_base,pandas_merge, pandas_merge_df)"
   ]
  },
  {
   "cell_type": "code",
   "execution_count": 20,
   "metadata": {
    "colab": {
     "base_uri": "https://localhost:8080/"
    },
    "id": "Emo31IqM0JWf",
    "outputId": "a9f08125-88e0-4455-8c64-7e15ad64bc05"
   },
   "outputs": [
    {
     "name": "stdout",
     "output_type": "stream",
     "text": [
      "['creacion_tabla_OutputEvaluacion.sql', 'inserto_datos_en_OutputEvaluacion.sql']\n"
     ]
    }
   ],
   "source": [
    "queries_folder = wd_path+\"/queries\"\n",
    "from os import listdir\n",
    "queries = os.listdir(queries_folder)\n",
    "print(queries)"
   ]
  },
  {
   "cell_type": "code",
   "execution_count": 28,
   "metadata": {},
   "outputs": [
    {
     "name": "stdout",
     "output_type": "stream",
     "text": [
      "CREATE TABLE \"OutputEvaluacion\" (\n",
      "\"field1\"\tINTEGER,\n",
      "\"anio\"\tINTEGER,\n",
      "\"cuit_impor\"\tREAL,\n",
      "\"rsocial\"\tTEXT,\n",
      "\"prove_dest\"\tTEXT,\n",
      "\"sim_sptos\"\tTEXT,\n",
      "\"porg\"\tINTEGER,\n",
      "\"origen\"\tTEXT,\n",
      "\"u_estad\"\tINTEGER,\n",
      "\"uni_estad\"\tTEXT,\n",
      "\"cant_est\"\tINTEGER,\n",
      "\"kg\"\tINTEGER,\n",
      "\"fob\"\tREAL,\n",
      "\"cif\"\tREAL,\n",
      "\"Nombre_Resultado\" TEXT,\n",
      "\"Evaluacion_Resultados\" TEXT\n",
      ");\n",
      "INSERT INTO OutputEvaluacion\n",
      "SELECT bs.*,\n",
      "CASE\n",
      "WHEN pm.first_cleaning IS NULL THEN bs.prove_dest\n",
      "WHEN pm.first_cleaning=\"Se borrÃ³ nombre en limpieza\" THEN bs.prove_dest\n",
      "WHEN pm.second_cleaning IS NULL THEN pm.first_cleaning\n",
      "WHEN pm.second_cleaning=\"Se borrÃ³ nombre en limpieza\" THEN pm.first_cleaning\n",
      "WHEN pm.tfidf_cleaning=\"no name\" THEN pm.second_cleaning\n",
      "WHEN pm.tfidf_cleaning=\"Se borrÃ³ nombre en limpieza\" THEN pm.second_cleaning\n",
      "WHEN pm.tfidf_cleaning IS NULL  THEN pm.second_cleaning\n",
      "ELSE pm.tfidf_cleaning\n",
      "END as \"Nombre_Resultado\",\n",
      "CASE\n",
      "WHEN pm.first_cleaning IS NULL THEN \"No_limpio\"\n",
      "WHEN pm.first_cleaning=\"Se borrÃ³ nombre en limpieza\" THEN \"No_limpio\"\n",
      "WHEN pm.second_cleaning IS NULL THEN \"Solo_Regex\"\n",
      "WHEN pm.second_cleaning=\"Se borrÃ³ nombre en limpieza\" THEN \"Solo_Regex\"\n",
      "WHEN pm.tfidf_cleaning=\"no name\" THEN \"Solo_Second_Cleaning\"\n",
      "WHEN pm.tfidf_cleaning IS NULL  THEN \"Solo_Second_Cleaning\"\n",
      "WHEN pm.tfidf_cleaning=\"Se borrÃ³ nombre en limpieza\" THEN \"Solo_Second_Cleaning\"\n",
      "ELSE \"TF-IDF_Cleaning\"\n",
      "END as \"Evaluacion_Resultados\"\n",
      "FROM base_sucia bs LEFT JOIN pandas_merge pm\n",
      "ON bs.prove_dest = pm.unicos_sucios\n",
      "WHERE bs.prove_dest NOT NULL;\n"
     ]
    }
   ],
   "source": [
    "for i in range(len(queries)):\n",
    "    with open(queries_folder+'/'+queries[i], \"r\") as f:\n",
    "        lines = f.readlines()\n",
    "        for line in lines:\n",
    "            print(line.strip())\n",
    "        "
   ]
  },
  {
   "cell_type": "code",
   "execution_count": 21,
   "metadata": {
    "colab": {
     "base_uri": "https://localhost:8080/"
    },
    "id": "jt6bXmoS1Kov",
    "outputId": "34a0b1f3-1ba0-4b3f-a286-0bc017e87f92"
   },
   "outputs": [
    {
     "name": "stdout",
     "output_type": "stream",
     "text": [
      "Successfully Connected to SQLite\n",
      "SQLite script executed successfully\n",
      "sqlite connection is closed\n"
     ]
    }
   ],
   "source": [
    "#Creacion de Tabla OutputEvaluacion\n",
    "run_sql_file(nombre_base, queries_folder+'/'+queries[0])"
   ]
  },
  {
   "cell_type": "code",
   "execution_count": 29,
   "metadata": {
    "colab": {
     "base_uri": "https://localhost:8080/"
    },
    "id": "mQPeS4ky1u83",
    "outputId": "c13328e0-0374-40e1-eab7-26d4e210d732"
   },
   "outputs": [
    {
     "name": "stdout",
     "output_type": "stream",
     "text": [
      "Successfully Connected to SQLite\n",
      "SQLite script executed successfully\n",
      "sqlite connection is closed\n"
     ]
    }
   ],
   "source": [
    "#Inserto Datos desde \n",
    "run_sql_file(nombre_base, queries_folder+'/'+queries[1])"
   ]
  },
  {
   "cell_type": "code",
   "execution_count": 31,
   "metadata": {},
   "outputs": [
    {
     "name": "stdout",
     "output_type": "stream",
     "text": [
      "['creacion_tabla_OutputEvaluacion.sql', 'groupby_Nombre_Resultado.sql', 'inserto_datos_en_OutputEvaluacion.sql']\n",
      "groupby_Nombre_Resultado.sql\n"
     ]
    }
   ],
   "source": [
    "from os import listdir\n",
    "queries = os.listdir(queries_folder)\n",
    "print(queries)\n",
    "grpby_query = queries[1]\n",
    "print(grpby_query)"
   ]
  },
  {
   "cell_type": "code",
   "execution_count": 32,
   "metadata": {
    "colab": {
     "base_uri": "https://localhost:8080/"
    },
    "id": "lfyWgISD4vUc",
    "outputId": "c0418b74-bad6-4026-fb53-243c4dd74dbc"
   },
   "outputs": [
    {
     "name": "stdout",
     "output_type": "stream",
     "text": [
      "Successfully Connected to SQLite\n",
      "******************************\n",
      "Your query is:\n",
      "SELECT Nombre_Resultado, sum(fob) as \"SumaFob\", sum(cif) as \"SumaCif\"\n",
      "FROM OutputEvaluacion\n",
      "GROUP BY Nombre_Resultado\n",
      "ORDER BY \"SumaFob\" DESC\n",
      "******************************\n",
      "SQLite script executed successfully\n",
      "sqlite connection is closed\n",
      "La query devolvió 3 columnas\n",
      "Successfully Connected to SQLite\n",
      "******************************\n",
      "Your query is:\n",
      "SELECT Nombre_Resultado, sum(fob) as \"SumaFob\", sum(cif) as \"SumaCif\"\n",
      "FROM OutputEvaluacion\n",
      "GROUP BY Nombre_Resultado\n",
      "ORDER BY \"SumaFob\" DESC\n",
      "******************************\n",
      "SQLite script executed successfully\n",
      "sqlite connection is closed\n",
      "La query devolvió 2118766 filas\n"
     ]
    }
   ],
   "source": [
    "cols = retrieve_query_keys(nombre_base,queries_folder+'/'+grpby_query)\n",
    "print(\"La query devolvió {} columnas\".format(len(cols)))\n",
    "rows = retrieve_query_data(nombre_base,queries_folder+'/'+grpby_query)\n",
    "print(\"La query devolvió {} filas\".format(len(rows)))"
   ]
  },
  {
   "cell_type": "code",
   "execution_count": null,
   "metadata": {},
   "outputs": [],
   "source": [
    "with open('fob_por_Nombre_Resultado.csv', 'w', newline='\\n') as f: \n",
    "    write = csv.writer(f) \n",
    "    write.writerow(cols) \n",
    "    write.writerows(rows) "
   ]
  }
 ],
 "metadata": {
  "colab": {
   "name": "Join Tablas.ipynb",
   "provenance": []
  },
  "kernelspec": {
   "display_name": "Python 3",
   "language": "python",
   "name": "python3"
  },
  "language_info": {
   "codemirror_mode": {
    "name": "ipython",
    "version": 3
   },
   "file_extension": ".py",
   "mimetype": "text/x-python",
   "name": "python",
   "nbconvert_exporter": "python",
   "pygments_lexer": "ipython3",
   "version": "3.8.5"
  }
 },
 "nbformat": 4,
 "nbformat_minor": 1
}
