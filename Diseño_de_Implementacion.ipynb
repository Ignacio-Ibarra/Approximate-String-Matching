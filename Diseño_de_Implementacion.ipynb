{
  "nbformat": 4,
  "nbformat_minor": 0,
  "metadata": {
    "colab": {
      "name": "Diseño de Implementacion.ipynb",
      "provenance": [],
      "authorship_tag": "ABX9TyPZnBKq53WcRQWQHocIzRY0",
      "include_colab_link": true
    },
    "kernelspec": {
      "name": "python3",
      "display_name": "Python 3"
    },
    "language_info": {
      "name": "python"
    }
  },
  "cells": [
    {
      "cell_type": "markdown",
      "metadata": {
        "id": "view-in-github",
        "colab_type": "text"
      },
      "source": [
        "<a href=\"https://colab.research.google.com/github/Ignacio-Ibarra/Approximate-String-Matching/blob/main/Dise%C3%B1o_de_Implementacion.ipynb\" target=\"_parent\"><img src=\"https://colab.research.google.com/assets/colab-badge.svg\" alt=\"Open In Colab\"/></a>"
      ]
    },
    {
      "cell_type": "markdown",
      "metadata": {
        "id": "oq8LJV9R-P1Z"
      },
      "source": [
        "# Diseño de la Implentación"
      ]
    },
    {
      "cell_type": "markdown",
      "metadata": {
        "id": "2DSBJ13cYX7X"
      },
      "source": [
        "## Problema"
      ]
    },
    {
      "cell_type": "markdown",
      "metadata": {
        "id": "K_SMzBOdtqFD"
      },
      "source": [
        "Tenemos una base con más de 11 millones de registros referidos a empresas extranjeras que realizaron exportaciones la Argentina. Dicha información podría ser de utilidad para investigación económica o control fiscal, entre otros destinos. Sin embargo la base se encuentra muy sucia y no es posible conocer con exactitud cuántas empresas **distintas** hay en la base, cuántas ocurrencias de registros hay por empresa "
      ]
    },
    {
      "cell_type": "markdown",
      "metadata": {
        "id": "cgRN-ERWts3l"
      },
      "source": [
        "## Objetivo"
      ]
    },
    {
      "cell_type": "markdown",
      "metadata": {
        "id": "BtMjV0j7tyHO"
      },
      "source": [
        "Mejorar la información disponible en las bases a las cuales el CEP tiene acceso, referida a las empresas que vendieron sus productos a la Argentina, limpiando los registros lo mejor posible \n"
      ]
    },
    {
      "cell_type": "markdown",
      "metadata": {
        "id": "sYoiI-mAuMo3"
      },
      "source": [
        "### Objetivo Específico\n"
      ]
    },
    {
      "cell_type": "markdown",
      "metadata": {
        "id": "Nn49vnsWuSl_"
      },
      "source": [
        "\n",
        "* Crear una base de datos en formato (clave,valor) cuyas `key` sean los nombres únicos de empresas de la base sucia y los valores sean los correspondientes nombres limpios. \n",
        "* Implementar esa base en SQL para poder agilizar los métodos de consulta."
      ]
    },
    {
      "cell_type": "markdown",
      "metadata": {
        "id": "ic7aIc_it1uA"
      },
      "source": [
        ""
      ]
    },
    {
      "cell_type": "markdown",
      "metadata": {
        "id": "hHh--_YbuYdO"
      },
      "source": [
        "## Etapas"
      ]
    },
    {
      "cell_type": "markdown",
      "metadata": {
        "id": "F1oyF6zOucF2"
      },
      "source": [
        "\n",
        "La implementación de la solución requirió de varias etapas: \n",
        "\n",
        "* Obteneción de los valores únicos de nombres sucios de las empresas utilizando la API RDD de `pyspark`. \n",
        "* Limpieza mediante **_regular expressions_** y obtención de los valores únicos limpios.\n",
        "* Obtención de valores únicos con TF-IDF mediante la similitud dada por el coseno del ángulo.  "
      ]
    }
  ]
}